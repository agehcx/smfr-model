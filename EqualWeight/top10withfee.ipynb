{
 "cells": [
  {
   "cell_type": "code",
   "execution_count": null,
   "metadata": {},
   "outputs": [
    {
     "name": "stdout",
     "output_type": "stream",
     "text": [
      "Processing BTC-USD for period 2019 (2019-01-01 to 2019-12-31)\n"
     ]
    },
    {
     "name": "stderr",
     "output_type": "stream",
     "text": [
      "[*********************100%***********************]  1 of 1 completed\n",
      "/opt/homebrew/lib/python3.11/site-packages/keras/src/layers/rnn/rnn.py:200: UserWarning: Do not pass an `input_shape`/`input_dim` argument to a layer. When using Sequential models, prefer using an `Input(shape)` object as the first layer in the model instead.\n",
      "  super().__init__(**kwargs)\n"
     ]
    },
    {
     "name": "stdout",
     "output_type": "stream",
     "text": [
      "Processing BTC-USD for period 2020 (2020-01-01 to 2020-12-31)\n"
     ]
    },
    {
     "name": "stderr",
     "output_type": "stream",
     "text": [
      "[*********************100%***********************]  1 of 1 completed\n",
      "/opt/homebrew/lib/python3.11/site-packages/keras/src/layers/rnn/rnn.py:200: UserWarning: Do not pass an `input_shape`/`input_dim` argument to a layer. When using Sequential models, prefer using an `Input(shape)` object as the first layer in the model instead.\n",
      "  super().__init__(**kwargs)\n",
      "[*********************100%***********************]  1 of 1 completed"
     ]
    },
    {
     "name": "stdout",
     "output_type": "stream",
     "text": [
      "Processing BTC-USD for period 2021 (2021-01-01 to 2021-12-31)\n"
     ]
    },
    {
     "name": "stderr",
     "output_type": "stream",
     "text": [
      "\n",
      "/opt/homebrew/lib/python3.11/site-packages/keras/src/layers/rnn/rnn.py:200: UserWarning: Do not pass an `input_shape`/`input_dim` argument to a layer. When using Sequential models, prefer using an `Input(shape)` object as the first layer in the model instead.\n",
      "  super().__init__(**kwargs)\n",
      "[*********************100%***********************]  1 of 1 completed"
     ]
    },
    {
     "name": "stdout",
     "output_type": "stream",
     "text": [
      "Processing BTC-USD for period 2022 (2022-01-01 to 2022-12-31)\n"
     ]
    },
    {
     "name": "stderr",
     "output_type": "stream",
     "text": [
      "\n",
      "/opt/homebrew/lib/python3.11/site-packages/keras/src/layers/rnn/rnn.py:200: UserWarning: Do not pass an `input_shape`/`input_dim` argument to a layer. When using Sequential models, prefer using an `Input(shape)` object as the first layer in the model instead.\n",
      "  super().__init__(**kwargs)\n"
     ]
    },
    {
     "name": "stdout",
     "output_type": "stream",
     "text": [
      "Processing BTC-USD for period 2023 (2023-01-01 to 2023-12-31)\n"
     ]
    },
    {
     "name": "stderr",
     "output_type": "stream",
     "text": [
      "[*********************100%***********************]  1 of 1 completed\n",
      "/opt/homebrew/lib/python3.11/site-packages/keras/src/layers/rnn/rnn.py:200: UserWarning: Do not pass an `input_shape`/`input_dim` argument to a layer. When using Sequential models, prefer using an `Input(shape)` object as the first layer in the model instead.\n",
      "  super().__init__(**kwargs)\n",
      "[*********************100%***********************]  1 of 1 completed"
     ]
    },
    {
     "name": "stdout",
     "output_type": "stream",
     "text": [
      "Processing BTC-USD for period 2024 (2024-01-01 to 2024-12-31)\n"
     ]
    },
    {
     "name": "stderr",
     "output_type": "stream",
     "text": [
      "\n",
      "/opt/homebrew/lib/python3.11/site-packages/keras/src/layers/rnn/rnn.py:200: UserWarning: Do not pass an `input_shape`/`input_dim` argument to a layer. When using Sequential models, prefer using an `Input(shape)` object as the first layer in the model instead.\n",
      "  super().__init__(**kwargs)\n",
      "[*********************100%***********************]  1 of 1 completed"
     ]
    },
    {
     "name": "stdout",
     "output_type": "stream",
     "text": [
      "Processing BTC-USD for period 2025_YTD (2025-01-01 to 2025-02-24)\n"
     ]
    },
    {
     "name": "stderr",
     "output_type": "stream",
     "text": [
      "\n",
      "/opt/homebrew/lib/python3.11/site-packages/keras/src/layers/rnn/rnn.py:200: UserWarning: Do not pass an `input_shape`/`input_dim` argument to a layer. When using Sequential models, prefer using an `Input(shape)` object as the first layer in the model instead.\n",
      "  super().__init__(**kwargs)\n",
      "[*********************100%***********************]  1 of 1 completed"
     ]
    },
    {
     "name": "stdout",
     "output_type": "stream",
     "text": [
      "Processing ETH-USD for period 2019 (2019-01-01 to 2019-12-31)\n"
     ]
    },
    {
     "name": "stderr",
     "output_type": "stream",
     "text": [
      "\n",
      "/opt/homebrew/lib/python3.11/site-packages/keras/src/layers/rnn/rnn.py:200: UserWarning: Do not pass an `input_shape`/`input_dim` argument to a layer. When using Sequential models, prefer using an `Input(shape)` object as the first layer in the model instead.\n",
      "  super().__init__(**kwargs)\n",
      "[*********************100%***********************]  1 of 1 completed"
     ]
    },
    {
     "name": "stdout",
     "output_type": "stream",
     "text": [
      "Processing ETH-USD for period 2020 (2020-01-01 to 2020-12-31)\n"
     ]
    },
    {
     "name": "stderr",
     "output_type": "stream",
     "text": [
      "\n",
      "/opt/homebrew/lib/python3.11/site-packages/keras/src/layers/rnn/rnn.py:200: UserWarning: Do not pass an `input_shape`/`input_dim` argument to a layer. When using Sequential models, prefer using an `Input(shape)` object as the first layer in the model instead.\n",
      "  super().__init__(**kwargs)\n",
      "[*********************100%***********************]  1 of 1 completed"
     ]
    },
    {
     "name": "stdout",
     "output_type": "stream",
     "text": [
      "Processing ETH-USD for period 2021 (2021-01-01 to 2021-12-31)\n"
     ]
    },
    {
     "name": "stderr",
     "output_type": "stream",
     "text": [
      "\n",
      "/opt/homebrew/lib/python3.11/site-packages/keras/src/layers/rnn/rnn.py:200: UserWarning: Do not pass an `input_shape`/`input_dim` argument to a layer. When using Sequential models, prefer using an `Input(shape)` object as the first layer in the model instead.\n",
      "  super().__init__(**kwargs)\n",
      "[*********************100%***********************]  1 of 1 completed"
     ]
    },
    {
     "name": "stdout",
     "output_type": "stream",
     "text": [
      "Processing ETH-USD for period 2022 (2022-01-01 to 2022-12-31)\n"
     ]
    },
    {
     "name": "stderr",
     "output_type": "stream",
     "text": [
      "\n",
      "/opt/homebrew/lib/python3.11/site-packages/keras/src/layers/rnn/rnn.py:200: UserWarning: Do not pass an `input_shape`/`input_dim` argument to a layer. When using Sequential models, prefer using an `Input(shape)` object as the first layer in the model instead.\n",
      "  super().__init__(**kwargs)\n",
      "[*********************100%***********************]  1 of 1 completed"
     ]
    },
    {
     "name": "stdout",
     "output_type": "stream",
     "text": [
      "Processing ETH-USD for period 2023 (2023-01-01 to 2023-12-31)\n"
     ]
    },
    {
     "name": "stderr",
     "output_type": "stream",
     "text": [
      "\n",
      "/opt/homebrew/lib/python3.11/site-packages/keras/src/layers/rnn/rnn.py:200: UserWarning: Do not pass an `input_shape`/`input_dim` argument to a layer. When using Sequential models, prefer using an `Input(shape)` object as the first layer in the model instead.\n",
      "  super().__init__(**kwargs)\n",
      "[*********************100%***********************]  1 of 1 completed"
     ]
    },
    {
     "name": "stdout",
     "output_type": "stream",
     "text": [
      "Processing ETH-USD for period 2024 (2024-01-01 to 2024-12-31)\n"
     ]
    },
    {
     "name": "stderr",
     "output_type": "stream",
     "text": [
      "\n",
      "/opt/homebrew/lib/python3.11/site-packages/keras/src/layers/rnn/rnn.py:200: UserWarning: Do not pass an `input_shape`/`input_dim` argument to a layer. When using Sequential models, prefer using an `Input(shape)` object as the first layer in the model instead.\n",
      "  super().__init__(**kwargs)\n",
      "[*********************100%***********************]  1 of 1 completed"
     ]
    },
    {
     "name": "stdout",
     "output_type": "stream",
     "text": [
      "Processing ETH-USD for period 2025_YTD (2025-01-01 to 2025-02-24)\n"
     ]
    },
    {
     "name": "stderr",
     "output_type": "stream",
     "text": [
      "\n",
      "/opt/homebrew/lib/python3.11/site-packages/keras/src/layers/rnn/rnn.py:200: UserWarning: Do not pass an `input_shape`/`input_dim` argument to a layer. When using Sequential models, prefer using an `Input(shape)` object as the first layer in the model instead.\n",
      "  super().__init__(**kwargs)\n",
      "[*********************100%***********************]  1 of 1 completed"
     ]
    },
    {
     "name": "stdout",
     "output_type": "stream",
     "text": [
      "Processing BNB-USD for period 2019 (2019-01-01 to 2019-12-31)\n"
     ]
    },
    {
     "name": "stderr",
     "output_type": "stream",
     "text": [
      "\n",
      "/opt/homebrew/lib/python3.11/site-packages/keras/src/layers/rnn/rnn.py:200: UserWarning: Do not pass an `input_shape`/`input_dim` argument to a layer. When using Sequential models, prefer using an `Input(shape)` object as the first layer in the model instead.\n",
      "  super().__init__(**kwargs)\n",
      "[*********************100%***********************]  1 of 1 completed"
     ]
    },
    {
     "name": "stdout",
     "output_type": "stream",
     "text": [
      "Processing BNB-USD for period 2020 (2020-01-01 to 2020-12-31)\n"
     ]
    },
    {
     "name": "stderr",
     "output_type": "stream",
     "text": [
      "\n",
      "/opt/homebrew/lib/python3.11/site-packages/keras/src/layers/rnn/rnn.py:200: UserWarning: Do not pass an `input_shape`/`input_dim` argument to a layer. When using Sequential models, prefer using an `Input(shape)` object as the first layer in the model instead.\n",
      "  super().__init__(**kwargs)\n",
      "[*********************100%***********************]  1 of 1 completed"
     ]
    },
    {
     "name": "stdout",
     "output_type": "stream",
     "text": [
      "Processing BNB-USD for period 2021 (2021-01-01 to 2021-12-31)\n"
     ]
    },
    {
     "name": "stderr",
     "output_type": "stream",
     "text": [
      "\n",
      "/opt/homebrew/lib/python3.11/site-packages/keras/src/layers/rnn/rnn.py:200: UserWarning: Do not pass an `input_shape`/`input_dim` argument to a layer. When using Sequential models, prefer using an `Input(shape)` object as the first layer in the model instead.\n",
      "  super().__init__(**kwargs)\n",
      "[*********************100%***********************]  1 of 1 completed"
     ]
    },
    {
     "name": "stdout",
     "output_type": "stream",
     "text": [
      "Processing BNB-USD for period 2022 (2022-01-01 to 2022-12-31)\n"
     ]
    },
    {
     "name": "stderr",
     "output_type": "stream",
     "text": [
      "\n",
      "/opt/homebrew/lib/python3.11/site-packages/keras/src/layers/rnn/rnn.py:200: UserWarning: Do not pass an `input_shape`/`input_dim` argument to a layer. When using Sequential models, prefer using an `Input(shape)` object as the first layer in the model instead.\n",
      "  super().__init__(**kwargs)\n",
      "[*********************100%***********************]  1 of 1 completed"
     ]
    },
    {
     "name": "stdout",
     "output_type": "stream",
     "text": [
      "Processing BNB-USD for period 2023 (2023-01-01 to 2023-12-31)\n"
     ]
    },
    {
     "name": "stderr",
     "output_type": "stream",
     "text": [
      "\n",
      "/opt/homebrew/lib/python3.11/site-packages/keras/src/layers/rnn/rnn.py:200: UserWarning: Do not pass an `input_shape`/`input_dim` argument to a layer. When using Sequential models, prefer using an `Input(shape)` object as the first layer in the model instead.\n",
      "  super().__init__(**kwargs)\n",
      "[*********************100%***********************]  1 of 1 completed"
     ]
    },
    {
     "name": "stdout",
     "output_type": "stream",
     "text": [
      "Processing BNB-USD for period 2024 (2024-01-01 to 2024-12-31)\n"
     ]
    },
    {
     "name": "stderr",
     "output_type": "stream",
     "text": [
      "\n",
      "/opt/homebrew/lib/python3.11/site-packages/keras/src/layers/rnn/rnn.py:200: UserWarning: Do not pass an `input_shape`/`input_dim` argument to a layer. When using Sequential models, prefer using an `Input(shape)` object as the first layer in the model instead.\n",
      "  super().__init__(**kwargs)\n",
      "[*********************100%***********************]  1 of 1 completed"
     ]
    },
    {
     "name": "stdout",
     "output_type": "stream",
     "text": [
      "Processing BNB-USD for period 2025_YTD (2025-01-01 to 2025-02-24)\n"
     ]
    },
    {
     "name": "stderr",
     "output_type": "stream",
     "text": [
      "\n",
      "/opt/homebrew/lib/python3.11/site-packages/keras/src/layers/rnn/rnn.py:200: UserWarning: Do not pass an `input_shape`/`input_dim` argument to a layer. When using Sequential models, prefer using an `Input(shape)` object as the first layer in the model instead.\n",
      "  super().__init__(**kwargs)\n",
      "[*********************100%***********************]  1 of 1 completed"
     ]
    },
    {
     "name": "stdout",
     "output_type": "stream",
     "text": [
      "Processing XRP-USD for period 2019 (2019-01-01 to 2019-12-31)\n"
     ]
    },
    {
     "name": "stderr",
     "output_type": "stream",
     "text": [
      "\n",
      "/opt/homebrew/lib/python3.11/site-packages/keras/src/layers/rnn/rnn.py:200: UserWarning: Do not pass an `input_shape`/`input_dim` argument to a layer. When using Sequential models, prefer using an `Input(shape)` object as the first layer in the model instead.\n",
      "  super().__init__(**kwargs)\n",
      "[*********************100%***********************]  1 of 1 completed"
     ]
    },
    {
     "name": "stdout",
     "output_type": "stream",
     "text": [
      "Processing XRP-USD for period 2020 (2020-01-01 to 2020-12-31)\n"
     ]
    },
    {
     "name": "stderr",
     "output_type": "stream",
     "text": [
      "\n",
      "/opt/homebrew/lib/python3.11/site-packages/keras/src/layers/rnn/rnn.py:200: UserWarning: Do not pass an `input_shape`/`input_dim` argument to a layer. When using Sequential models, prefer using an `Input(shape)` object as the first layer in the model instead.\n",
      "  super().__init__(**kwargs)\n",
      "[*********************100%***********************]  1 of 1 completed"
     ]
    },
    {
     "name": "stdout",
     "output_type": "stream",
     "text": [
      "Processing XRP-USD for period 2021 (2021-01-01 to 2021-12-31)\n"
     ]
    },
    {
     "name": "stderr",
     "output_type": "stream",
     "text": [
      "\n",
      "/opt/homebrew/lib/python3.11/site-packages/keras/src/layers/rnn/rnn.py:200: UserWarning: Do not pass an `input_shape`/`input_dim` argument to a layer. When using Sequential models, prefer using an `Input(shape)` object as the first layer in the model instead.\n",
      "  super().__init__(**kwargs)\n",
      "[*********************100%***********************]  1 of 1 completed"
     ]
    },
    {
     "name": "stdout",
     "output_type": "stream",
     "text": [
      "Processing XRP-USD for period 2022 (2022-01-01 to 2022-12-31)\n"
     ]
    },
    {
     "name": "stderr",
     "output_type": "stream",
     "text": [
      "\n",
      "/opt/homebrew/lib/python3.11/site-packages/keras/src/layers/rnn/rnn.py:200: UserWarning: Do not pass an `input_shape`/`input_dim` argument to a layer. When using Sequential models, prefer using an `Input(shape)` object as the first layer in the model instead.\n",
      "  super().__init__(**kwargs)\n",
      "[*********************100%***********************]  1 of 1 completed"
     ]
    },
    {
     "name": "stdout",
     "output_type": "stream",
     "text": [
      "Processing XRP-USD for period 2023 (2023-01-01 to 2023-12-31)\n"
     ]
    },
    {
     "name": "stderr",
     "output_type": "stream",
     "text": [
      "\n",
      "/opt/homebrew/lib/python3.11/site-packages/keras/src/layers/rnn/rnn.py:200: UserWarning: Do not pass an `input_shape`/`input_dim` argument to a layer. When using Sequential models, prefer using an `Input(shape)` object as the first layer in the model instead.\n",
      "  super().__init__(**kwargs)\n",
      "[*********************100%***********************]  1 of 1 completed"
     ]
    },
    {
     "name": "stdout",
     "output_type": "stream",
     "text": [
      "Processing XRP-USD for period 2024 (2024-01-01 to 2024-12-31)\n"
     ]
    },
    {
     "name": "stderr",
     "output_type": "stream",
     "text": [
      "\n",
      "/opt/homebrew/lib/python3.11/site-packages/keras/src/layers/rnn/rnn.py:200: UserWarning: Do not pass an `input_shape`/`input_dim` argument to a layer. When using Sequential models, prefer using an `Input(shape)` object as the first layer in the model instead.\n",
      "  super().__init__(**kwargs)\n",
      "[*********************100%***********************]  1 of 1 completed"
     ]
    },
    {
     "name": "stdout",
     "output_type": "stream",
     "text": [
      "Processing XRP-USD for period 2025_YTD (2025-01-01 to 2025-02-24)\n"
     ]
    },
    {
     "name": "stderr",
     "output_type": "stream",
     "text": [
      "\n",
      "/opt/homebrew/lib/python3.11/site-packages/keras/src/layers/rnn/rnn.py:200: UserWarning: Do not pass an `input_shape`/`input_dim` argument to a layer. When using Sequential models, prefer using an `Input(shape)` object as the first layer in the model instead.\n",
      "  super().__init__(**kwargs)\n",
      "[*********************100%***********************]  1 of 1 completed"
     ]
    },
    {
     "name": "stdout",
     "output_type": "stream",
     "text": [
      "Processing ADA-USD for period 2019 (2019-01-01 to 2019-12-31)\n"
     ]
    },
    {
     "name": "stderr",
     "output_type": "stream",
     "text": [
      "\n",
      "/opt/homebrew/lib/python3.11/site-packages/keras/src/layers/rnn/rnn.py:200: UserWarning: Do not pass an `input_shape`/`input_dim` argument to a layer. When using Sequential models, prefer using an `Input(shape)` object as the first layer in the model instead.\n",
      "  super().__init__(**kwargs)\n",
      "[*********************100%***********************]  1 of 1 completed"
     ]
    },
    {
     "name": "stdout",
     "output_type": "stream",
     "text": [
      "Processing ADA-USD for period 2020 (2020-01-01 to 2020-12-31)\n"
     ]
    },
    {
     "name": "stderr",
     "output_type": "stream",
     "text": [
      "\n",
      "/opt/homebrew/lib/python3.11/site-packages/keras/src/layers/rnn/rnn.py:200: UserWarning: Do not pass an `input_shape`/`input_dim` argument to a layer. When using Sequential models, prefer using an `Input(shape)` object as the first layer in the model instead.\n",
      "  super().__init__(**kwargs)\n",
      "[*********************100%***********************]  1 of 1 completed"
     ]
    },
    {
     "name": "stdout",
     "output_type": "stream",
     "text": [
      "Processing ADA-USD for period 2021 (2021-01-01 to 2021-12-31)\n"
     ]
    },
    {
     "name": "stderr",
     "output_type": "stream",
     "text": [
      "\n",
      "/opt/homebrew/lib/python3.11/site-packages/keras/src/layers/rnn/rnn.py:200: UserWarning: Do not pass an `input_shape`/`input_dim` argument to a layer. When using Sequential models, prefer using an `Input(shape)` object as the first layer in the model instead.\n",
      "  super().__init__(**kwargs)\n",
      "[*********************100%***********************]  1 of 1 completed"
     ]
    },
    {
     "name": "stdout",
     "output_type": "stream",
     "text": [
      "Processing ADA-USD for period 2022 (2022-01-01 to 2022-12-31)\n"
     ]
    },
    {
     "name": "stderr",
     "output_type": "stream",
     "text": [
      "\n",
      "/opt/homebrew/lib/python3.11/site-packages/keras/src/layers/rnn/rnn.py:200: UserWarning: Do not pass an `input_shape`/`input_dim` argument to a layer. When using Sequential models, prefer using an `Input(shape)` object as the first layer in the model instead.\n",
      "  super().__init__(**kwargs)\n",
      "[*********************100%***********************]  1 of 1 completed"
     ]
    },
    {
     "name": "stdout",
     "output_type": "stream",
     "text": [
      "Processing ADA-USD for period 2023 (2023-01-01 to 2023-12-31)\n"
     ]
    },
    {
     "name": "stderr",
     "output_type": "stream",
     "text": [
      "\n",
      "/opt/homebrew/lib/python3.11/site-packages/keras/src/layers/rnn/rnn.py:200: UserWarning: Do not pass an `input_shape`/`input_dim` argument to a layer. When using Sequential models, prefer using an `Input(shape)` object as the first layer in the model instead.\n",
      "  super().__init__(**kwargs)\n",
      "[*********************100%***********************]  1 of 1 completed"
     ]
    },
    {
     "name": "stdout",
     "output_type": "stream",
     "text": [
      "Processing ADA-USD for period 2024 (2024-01-01 to 2024-12-31)\n"
     ]
    },
    {
     "name": "stderr",
     "output_type": "stream",
     "text": [
      "\n",
      "/opt/homebrew/lib/python3.11/site-packages/keras/src/layers/rnn/rnn.py:200: UserWarning: Do not pass an `input_shape`/`input_dim` argument to a layer. When using Sequential models, prefer using an `Input(shape)` object as the first layer in the model instead.\n",
      "  super().__init__(**kwargs)\n",
      "[*********************100%***********************]  1 of 1 completed"
     ]
    },
    {
     "name": "stdout",
     "output_type": "stream",
     "text": [
      "Processing ADA-USD for period 2025_YTD (2025-01-01 to 2025-02-24)\n"
     ]
    },
    {
     "name": "stderr",
     "output_type": "stream",
     "text": [
      "\n",
      "/opt/homebrew/lib/python3.11/site-packages/keras/src/layers/rnn/rnn.py:200: UserWarning: Do not pass an `input_shape`/`input_dim` argument to a layer. When using Sequential models, prefer using an `Input(shape)` object as the first layer in the model instead.\n",
      "  super().__init__(**kwargs)\n"
     ]
    },
    {
     "name": "stdout",
     "output_type": "stream",
     "text": [
      "Processing SOL-USD for period 2019 (2019-01-01 to 2019-12-31)\n"
     ]
    },
    {
     "name": "stderr",
     "output_type": "stream",
     "text": [
      "[*********************100%***********************]  1 of 1 completed\n",
      "\n",
      "1 Failed download:\n",
      "['SOL-USD']: YFPricesMissingError('possibly delisted; no price data found  (1d 2019-01-01 -> 2019-12-31) (Yahoo error = \"Data doesn\\'t exist for startDate = 1546300800, endDate = 1577750400\")')\n",
      "[*********************100%***********************]  1 of 1 completed"
     ]
    },
    {
     "name": "stdout",
     "output_type": "stream",
     "text": [
      "Error processing SOL-USD for period 2019: No data found for SOL-USD between 2019-01-01 and 2019-12-31\n",
      "Processing SOL-USD for period 2020 (2020-01-01 to 2020-12-31)\n"
     ]
    },
    {
     "name": "stderr",
     "output_type": "stream",
     "text": [
      "\n",
      "/opt/homebrew/lib/python3.11/site-packages/keras/src/layers/rnn/rnn.py:200: UserWarning: Do not pass an `input_shape`/`input_dim` argument to a layer. When using Sequential models, prefer using an `Input(shape)` object as the first layer in the model instead.\n",
      "  super().__init__(**kwargs)\n",
      "[*********************100%***********************]  1 of 1 completed"
     ]
    },
    {
     "name": "stdout",
     "output_type": "stream",
     "text": [
      "Processing SOL-USD for period 2021 (2021-01-01 to 2021-12-31)\n"
     ]
    },
    {
     "name": "stderr",
     "output_type": "stream",
     "text": [
      "\n",
      "/opt/homebrew/lib/python3.11/site-packages/keras/src/layers/rnn/rnn.py:200: UserWarning: Do not pass an `input_shape`/`input_dim` argument to a layer. When using Sequential models, prefer using an `Input(shape)` object as the first layer in the model instead.\n",
      "  super().__init__(**kwargs)\n"
     ]
    },
    {
     "name": "stdout",
     "output_type": "stream",
     "text": [
      "Processing SOL-USD for period 2022 (2022-01-01 to 2022-12-31)\n"
     ]
    },
    {
     "name": "stderr",
     "output_type": "stream",
     "text": [
      "[*********************100%***********************]  1 of 1 completed\n",
      "/opt/homebrew/lib/python3.11/site-packages/keras/src/layers/rnn/rnn.py:200: UserWarning: Do not pass an `input_shape`/`input_dim` argument to a layer. When using Sequential models, prefer using an `Input(shape)` object as the first layer in the model instead.\n",
      "  super().__init__(**kwargs)\n",
      "[*********************100%***********************]  1 of 1 completed"
     ]
    },
    {
     "name": "stdout",
     "output_type": "stream",
     "text": [
      "Processing SOL-USD for period 2023 (2023-01-01 to 2023-12-31)\n"
     ]
    },
    {
     "name": "stderr",
     "output_type": "stream",
     "text": [
      "\n",
      "/opt/homebrew/lib/python3.11/site-packages/keras/src/layers/rnn/rnn.py:200: UserWarning: Do not pass an `input_shape`/`input_dim` argument to a layer. When using Sequential models, prefer using an `Input(shape)` object as the first layer in the model instead.\n",
      "  super().__init__(**kwargs)\n",
      "[*********************100%***********************]  1 of 1 completed"
     ]
    },
    {
     "name": "stdout",
     "output_type": "stream",
     "text": [
      "Processing SOL-USD for period 2024 (2024-01-01 to 2024-12-31)\n"
     ]
    },
    {
     "name": "stderr",
     "output_type": "stream",
     "text": [
      "\n",
      "/opt/homebrew/lib/python3.11/site-packages/keras/src/layers/rnn/rnn.py:200: UserWarning: Do not pass an `input_shape`/`input_dim` argument to a layer. When using Sequential models, prefer using an `Input(shape)` object as the first layer in the model instead.\n",
      "  super().__init__(**kwargs)\n",
      "[*********************100%***********************]  1 of 1 completed"
     ]
    },
    {
     "name": "stdout",
     "output_type": "stream",
     "text": [
      "Processing SOL-USD for period 2025_YTD (2025-01-01 to 2025-02-24)\n"
     ]
    },
    {
     "name": "stderr",
     "output_type": "stream",
     "text": [
      "\n",
      "/opt/homebrew/lib/python3.11/site-packages/keras/src/layers/rnn/rnn.py:200: UserWarning: Do not pass an `input_shape`/`input_dim` argument to a layer. When using Sequential models, prefer using an `Input(shape)` object as the first layer in the model instead.\n",
      "  super().__init__(**kwargs)\n"
     ]
    },
    {
     "name": "stdout",
     "output_type": "stream",
     "text": [
      "Processing DOT-USD for period 2019 (2019-01-01 to 2019-12-31)\n"
     ]
    },
    {
     "name": "stderr",
     "output_type": "stream",
     "text": [
      "[*********************100%***********************]  1 of 1 completed\n",
      "\n",
      "1 Failed download:\n",
      "['DOT-USD']: YFPricesMissingError('possibly delisted; no price data found  (1d 2019-01-01 -> 2019-12-31) (Yahoo error = \"Data doesn\\'t exist for startDate = 1546300800, endDate = 1577750400\")')\n",
      "[*********************100%***********************]  1 of 1 completed\n",
      "/opt/homebrew/lib/python3.11/site-packages/keras/src/layers/rnn/rnn.py:200: UserWarning: Do not pass an `input_shape`/`input_dim` argument to a layer. When using Sequential models, prefer using an `Input(shape)` object as the first layer in the model instead.\n",
      "  super().__init__(**kwargs)\n"
     ]
    },
    {
     "name": "stdout",
     "output_type": "stream",
     "text": [
      "Error processing DOT-USD for period 2019: No data found for DOT-USD between 2019-01-01 and 2019-12-31\n",
      "Processing DOT-USD for period 2020 (2020-01-01 to 2020-12-31)\n"
     ]
    },
    {
     "name": "stderr",
     "output_type": "stream",
     "text": [
      "[*********************100%***********************]  1 of 1 completed"
     ]
    },
    {
     "name": "stdout",
     "output_type": "stream",
     "text": [
      "Processing DOT-USD for period 2021 (2021-01-01 to 2021-12-31)\n"
     ]
    },
    {
     "name": "stderr",
     "output_type": "stream",
     "text": [
      "\n",
      "/opt/homebrew/lib/python3.11/site-packages/keras/src/layers/rnn/rnn.py:200: UserWarning: Do not pass an `input_shape`/`input_dim` argument to a layer. When using Sequential models, prefer using an `Input(shape)` object as the first layer in the model instead.\n",
      "  super().__init__(**kwargs)\n",
      "[*********************100%***********************]  1 of 1 completed"
     ]
    },
    {
     "name": "stdout",
     "output_type": "stream",
     "text": [
      "Processing DOT-USD for period 2022 (2022-01-01 to 2022-12-31)\n"
     ]
    },
    {
     "name": "stderr",
     "output_type": "stream",
     "text": [
      "\n",
      "/opt/homebrew/lib/python3.11/site-packages/keras/src/layers/rnn/rnn.py:200: UserWarning: Do not pass an `input_shape`/`input_dim` argument to a layer. When using Sequential models, prefer using an `Input(shape)` object as the first layer in the model instead.\n",
      "  super().__init__(**kwargs)\n",
      "[*********************100%***********************]  1 of 1 completed"
     ]
    },
    {
     "name": "stdout",
     "output_type": "stream",
     "text": [
      "Processing DOT-USD for period 2023 (2023-01-01 to 2023-12-31)\n"
     ]
    },
    {
     "name": "stderr",
     "output_type": "stream",
     "text": [
      "\n",
      "/opt/homebrew/lib/python3.11/site-packages/keras/src/layers/rnn/rnn.py:200: UserWarning: Do not pass an `input_shape`/`input_dim` argument to a layer. When using Sequential models, prefer using an `Input(shape)` object as the first layer in the model instead.\n",
      "  super().__init__(**kwargs)\n",
      "[*********************100%***********************]  1 of 1 completed"
     ]
    },
    {
     "name": "stdout",
     "output_type": "stream",
     "text": [
      "Processing DOT-USD for period 2024 (2024-01-01 to 2024-12-31)\n"
     ]
    },
    {
     "name": "stderr",
     "output_type": "stream",
     "text": [
      "\n",
      "/opt/homebrew/lib/python3.11/site-packages/keras/src/layers/rnn/rnn.py:200: UserWarning: Do not pass an `input_shape`/`input_dim` argument to a layer. When using Sequential models, prefer using an `Input(shape)` object as the first layer in the model instead.\n",
      "  super().__init__(**kwargs)\n",
      "[*********************100%***********************]  1 of 1 completed"
     ]
    },
    {
     "name": "stdout",
     "output_type": "stream",
     "text": [
      "Processing DOT-USD for period 2025_YTD (2025-01-01 to 2025-02-24)\n"
     ]
    },
    {
     "name": "stderr",
     "output_type": "stream",
     "text": [
      "\n",
      "/opt/homebrew/lib/python3.11/site-packages/keras/src/layers/rnn/rnn.py:200: UserWarning: Do not pass an `input_shape`/`input_dim` argument to a layer. When using Sequential models, prefer using an `Input(shape)` object as the first layer in the model instead.\n",
      "  super().__init__(**kwargs)\n",
      "[*********************100%***********************]  1 of 1 completed"
     ]
    },
    {
     "name": "stdout",
     "output_type": "stream",
     "text": [
      "Processing DOGE-USD for period 2019 (2019-01-01 to 2019-12-31)\n"
     ]
    },
    {
     "name": "stderr",
     "output_type": "stream",
     "text": [
      "\n",
      "/opt/homebrew/lib/python3.11/site-packages/keras/src/layers/rnn/rnn.py:200: UserWarning: Do not pass an `input_shape`/`input_dim` argument to a layer. When using Sequential models, prefer using an `Input(shape)` object as the first layer in the model instead.\n",
      "  super().__init__(**kwargs)\n",
      "[*********************100%***********************]  1 of 1 completed"
     ]
    },
    {
     "name": "stdout",
     "output_type": "stream",
     "text": [
      "Processing DOGE-USD for period 2020 (2020-01-01 to 2020-12-31)\n"
     ]
    },
    {
     "name": "stderr",
     "output_type": "stream",
     "text": [
      "\n",
      "/opt/homebrew/lib/python3.11/site-packages/keras/src/layers/rnn/rnn.py:200: UserWarning: Do not pass an `input_shape`/`input_dim` argument to a layer. When using Sequential models, prefer using an `Input(shape)` object as the first layer in the model instead.\n",
      "  super().__init__(**kwargs)\n",
      "[*********************100%***********************]  1 of 1 completed"
     ]
    },
    {
     "name": "stdout",
     "output_type": "stream",
     "text": [
      "Processing DOGE-USD for period 2021 (2021-01-01 to 2021-12-31)\n"
     ]
    },
    {
     "name": "stderr",
     "output_type": "stream",
     "text": [
      "\n",
      "/opt/homebrew/lib/python3.11/site-packages/keras/src/layers/rnn/rnn.py:200: UserWarning: Do not pass an `input_shape`/`input_dim` argument to a layer. When using Sequential models, prefer using an `Input(shape)` object as the first layer in the model instead.\n",
      "  super().__init__(**kwargs)\n",
      "[*********************100%***********************]  1 of 1 completed"
     ]
    },
    {
     "name": "stdout",
     "output_type": "stream",
     "text": [
      "Processing DOGE-USD for period 2022 (2022-01-01 to 2022-12-31)\n"
     ]
    },
    {
     "name": "stderr",
     "output_type": "stream",
     "text": [
      "\n",
      "/opt/homebrew/lib/python3.11/site-packages/keras/src/layers/rnn/rnn.py:200: UserWarning: Do not pass an `input_shape`/`input_dim` argument to a layer. When using Sequential models, prefer using an `Input(shape)` object as the first layer in the model instead.\n",
      "  super().__init__(**kwargs)\n",
      "[*********************100%***********************]  1 of 1 completed"
     ]
    },
    {
     "name": "stdout",
     "output_type": "stream",
     "text": [
      "Processing DOGE-USD for period 2023 (2023-01-01 to 2023-12-31)\n"
     ]
    },
    {
     "name": "stderr",
     "output_type": "stream",
     "text": [
      "\n",
      "/opt/homebrew/lib/python3.11/site-packages/keras/src/layers/rnn/rnn.py:200: UserWarning: Do not pass an `input_shape`/`input_dim` argument to a layer. When using Sequential models, prefer using an `Input(shape)` object as the first layer in the model instead.\n",
      "  super().__init__(**kwargs)\n",
      "[*********************100%***********************]  1 of 1 completed"
     ]
    },
    {
     "name": "stdout",
     "output_type": "stream",
     "text": [
      "Processing DOGE-USD for period 2024 (2024-01-01 to 2024-12-31)\n"
     ]
    },
    {
     "name": "stderr",
     "output_type": "stream",
     "text": [
      "\n",
      "/opt/homebrew/lib/python3.11/site-packages/keras/src/layers/rnn/rnn.py:200: UserWarning: Do not pass an `input_shape`/`input_dim` argument to a layer. When using Sequential models, prefer using an `Input(shape)` object as the first layer in the model instead.\n",
      "  super().__init__(**kwargs)\n",
      "[*********************100%***********************]  1 of 1 completed"
     ]
    },
    {
     "name": "stdout",
     "output_type": "stream",
     "text": [
      "Processing DOGE-USD for period 2025_YTD (2025-01-01 to 2025-02-24)\n"
     ]
    },
    {
     "name": "stderr",
     "output_type": "stream",
     "text": [
      "\n",
      "/opt/homebrew/lib/python3.11/site-packages/keras/src/layers/rnn/rnn.py:200: UserWarning: Do not pass an `input_shape`/`input_dim` argument to a layer. When using Sequential models, prefer using an `Input(shape)` object as the first layer in the model instead.\n",
      "  super().__init__(**kwargs)\n"
     ]
    },
    {
     "name": "stdout",
     "output_type": "stream",
     "text": [
      "Processing AVAX-USD for period 2019 (2019-01-01 to 2019-12-31)\n"
     ]
    },
    {
     "name": "stderr",
     "output_type": "stream",
     "text": [
      "[*********************100%***********************]  1 of 1 completed\n",
      "\n",
      "1 Failed download:\n",
      "['AVAX-USD']: YFPricesMissingError('possibly delisted; no price data found  (1d 2019-01-01 -> 2019-12-31) (Yahoo error = \"Data doesn\\'t exist for startDate = 1546300800, endDate = 1577750400\")')\n",
      "[*********************100%***********************]  1 of 1 completed\n"
     ]
    },
    {
     "name": "stdout",
     "output_type": "stream",
     "text": [
      "Error processing AVAX-USD for period 2019: No data found for AVAX-USD between 2019-01-01 and 2019-12-31\n",
      "Processing AVAX-USD for period 2020 (2020-01-01 to 2020-12-31)\n"
     ]
    },
    {
     "name": "stderr",
     "output_type": "stream",
     "text": [
      "/opt/homebrew/lib/python3.11/site-packages/keras/src/layers/rnn/rnn.py:200: UserWarning: Do not pass an `input_shape`/`input_dim` argument to a layer. When using Sequential models, prefer using an `Input(shape)` object as the first layer in the model instead.\n",
      "  super().__init__(**kwargs)\n"
     ]
    },
    {
     "name": "stdout",
     "output_type": "stream",
     "text": [
      "Processing AVAX-USD for period 2021 (2021-01-01 to 2021-12-31)\n"
     ]
    },
    {
     "name": "stderr",
     "output_type": "stream",
     "text": [
      "[*********************100%***********************]  1 of 1 completed\n",
      "/opt/homebrew/lib/python3.11/site-packages/keras/src/layers/rnn/rnn.py:200: UserWarning: Do not pass an `input_shape`/`input_dim` argument to a layer. When using Sequential models, prefer using an `Input(shape)` object as the first layer in the model instead.\n",
      "  super().__init__(**kwargs)\n",
      "[*********************100%***********************]  1 of 1 completed"
     ]
    },
    {
     "name": "stdout",
     "output_type": "stream",
     "text": [
      "Processing AVAX-USD for period 2022 (2022-01-01 to 2022-12-31)\n"
     ]
    },
    {
     "name": "stderr",
     "output_type": "stream",
     "text": [
      "\n",
      "/opt/homebrew/lib/python3.11/site-packages/keras/src/layers/rnn/rnn.py:200: UserWarning: Do not pass an `input_shape`/`input_dim` argument to a layer. When using Sequential models, prefer using an `Input(shape)` object as the first layer in the model instead.\n",
      "  super().__init__(**kwargs)\n",
      "[*********************100%***********************]  1 of 1 completed"
     ]
    },
    {
     "name": "stdout",
     "output_type": "stream",
     "text": [
      "Processing AVAX-USD for period 2023 (2023-01-01 to 2023-12-31)\n"
     ]
    },
    {
     "name": "stderr",
     "output_type": "stream",
     "text": [
      "\n",
      "/opt/homebrew/lib/python3.11/site-packages/keras/src/layers/rnn/rnn.py:200: UserWarning: Do not pass an `input_shape`/`input_dim` argument to a layer. When using Sequential models, prefer using an `Input(shape)` object as the first layer in the model instead.\n",
      "  super().__init__(**kwargs)\n",
      "[*********************100%***********************]  1 of 1 completed"
     ]
    },
    {
     "name": "stdout",
     "output_type": "stream",
     "text": [
      "Processing AVAX-USD for period 2024 (2024-01-01 to 2024-12-31)\n"
     ]
    },
    {
     "name": "stderr",
     "output_type": "stream",
     "text": [
      "\n",
      "/opt/homebrew/lib/python3.11/site-packages/keras/src/layers/rnn/rnn.py:200: UserWarning: Do not pass an `input_shape`/`input_dim` argument to a layer. When using Sequential models, prefer using an `Input(shape)` object as the first layer in the model instead.\n",
      "  super().__init__(**kwargs)\n",
      "[*********************100%***********************]  1 of 1 completed"
     ]
    },
    {
     "name": "stdout",
     "output_type": "stream",
     "text": [
      "Processing AVAX-USD for period 2025_YTD (2025-01-01 to 2025-02-24)\n"
     ]
    },
    {
     "name": "stderr",
     "output_type": "stream",
     "text": [
      "\n",
      "/opt/homebrew/lib/python3.11/site-packages/keras/src/layers/rnn/rnn.py:200: UserWarning: Do not pass an `input_shape`/`input_dim` argument to a layer. When using Sequential models, prefer using an `Input(shape)` object as the first layer in the model instead.\n",
      "  super().__init__(**kwargs)\n",
      "[*********************100%***********************]  1 of 1 completed"
     ]
    },
    {
     "name": "stdout",
     "output_type": "stream",
     "text": [
      "Processing MATIC-USD for period 2019 (2019-01-01 to 2019-12-31)\n"
     ]
    },
    {
     "name": "stderr",
     "output_type": "stream",
     "text": [
      "\n",
      "/opt/homebrew/lib/python3.11/site-packages/keras/src/layers/rnn/rnn.py:200: UserWarning: Do not pass an `input_shape`/`input_dim` argument to a layer. When using Sequential models, prefer using an `Input(shape)` object as the first layer in the model instead.\n",
      "  super().__init__(**kwargs)\n",
      "[*********************100%***********************]  1 of 1 completed"
     ]
    },
    {
     "name": "stdout",
     "output_type": "stream",
     "text": [
      "Processing MATIC-USD for period 2020 (2020-01-01 to 2020-12-31)\n"
     ]
    },
    {
     "name": "stderr",
     "output_type": "stream",
     "text": [
      "\n",
      "/opt/homebrew/lib/python3.11/site-packages/keras/src/layers/rnn/rnn.py:200: UserWarning: Do not pass an `input_shape`/`input_dim` argument to a layer. When using Sequential models, prefer using an `Input(shape)` object as the first layer in the model instead.\n",
      "  super().__init__(**kwargs)\n",
      "[*********************100%***********************]  1 of 1 completed"
     ]
    },
    {
     "name": "stdout",
     "output_type": "stream",
     "text": [
      "Processing MATIC-USD for period 2021 (2021-01-01 to 2021-12-31)\n"
     ]
    },
    {
     "name": "stderr",
     "output_type": "stream",
     "text": [
      "\n",
      "/opt/homebrew/lib/python3.11/site-packages/keras/src/layers/rnn/rnn.py:200: UserWarning: Do not pass an `input_shape`/`input_dim` argument to a layer. When using Sequential models, prefer using an `Input(shape)` object as the first layer in the model instead.\n",
      "  super().__init__(**kwargs)\n",
      "[*********************100%***********************]  1 of 1 completed"
     ]
    },
    {
     "name": "stdout",
     "output_type": "stream",
     "text": [
      "Processing MATIC-USD for period 2022 (2022-01-01 to 2022-12-31)\n"
     ]
    },
    {
     "name": "stderr",
     "output_type": "stream",
     "text": [
      "\n",
      "/opt/homebrew/lib/python3.11/site-packages/keras/src/layers/rnn/rnn.py:200: UserWarning: Do not pass an `input_shape`/`input_dim` argument to a layer. When using Sequential models, prefer using an `Input(shape)` object as the first layer in the model instead.\n",
      "  super().__init__(**kwargs)\n",
      "[*********************100%***********************]  1 of 1 completed"
     ]
    },
    {
     "name": "stdout",
     "output_type": "stream",
     "text": [
      "Processing MATIC-USD for period 2023 (2023-01-01 to 2023-12-31)\n"
     ]
    },
    {
     "name": "stderr",
     "output_type": "stream",
     "text": [
      "\n",
      "/opt/homebrew/lib/python3.11/site-packages/keras/src/layers/rnn/rnn.py:200: UserWarning: Do not pass an `input_shape`/`input_dim` argument to a layer. When using Sequential models, prefer using an `Input(shape)` object as the first layer in the model instead.\n",
      "  super().__init__(**kwargs)\n",
      "[*********************100%***********************]  1 of 1 completed"
     ]
    },
    {
     "name": "stdout",
     "output_type": "stream",
     "text": [
      "Processing MATIC-USD for period 2024 (2024-01-01 to 2024-12-31)\n"
     ]
    },
    {
     "name": "stderr",
     "output_type": "stream",
     "text": [
      "\n",
      "/opt/homebrew/lib/python3.11/site-packages/keras/src/layers/rnn/rnn.py:200: UserWarning: Do not pass an `input_shape`/`input_dim` argument to a layer. When using Sequential models, prefer using an `Input(shape)` object as the first layer in the model instead.\n",
      "  super().__init__(**kwargs)\n",
      "[*********************100%***********************]  1 of 1 completed"
     ]
    },
    {
     "name": "stdout",
     "output_type": "stream",
     "text": [
      "Processing MATIC-USD for period 2025_YTD (2025-01-01 to 2025-02-24)\n"
     ]
    },
    {
     "name": "stderr",
     "output_type": "stream",
     "text": [
      "\n",
      "/opt/homebrew/lib/python3.11/site-packages/keras/src/layers/rnn/rnn.py:200: UserWarning: Do not pass an `input_shape`/`input_dim` argument to a layer. When using Sequential models, prefer using an `Input(shape)` object as the first layer in the model instead.\n",
      "  super().__init__(**kwargs)\n"
     ]
    },
    {
     "name": "stdout",
     "output_type": "stream",
     "text": [
      "\n",
      "Backtest Results:\n",
      "       crypto      Start        End   Period  Start Value   End Value  \\\n",
      "0     BTC-USD 2019-01-02 2019-12-30 363 days        100.0  194.421129   \n",
      "1     BTC-USD 2020-01-02 2020-12-30 364 days        100.0  212.606285   \n",
      "2     BTC-USD 2021-01-02 2021-12-30 363 days        100.0  149.336995   \n",
      "3     BTC-USD 2022-01-02 2022-12-30 363 days        100.0   72.392932   \n",
      "4     BTC-USD 2023-01-02 2023-12-30 363 days        100.0  181.769798   \n",
      "..        ...        ...        ...      ...          ...         ...   \n",
      "62  MATIC-USD 2021-01-02 2021-12-30 363 days        100.0  100.392461   \n",
      "63  MATIC-USD 2022-01-02 2022-12-30 363 days        100.0   99.257550   \n",
      "64  MATIC-USD 2023-01-02 2023-12-30 363 days        100.0  100.110629   \n",
      "65  MATIC-USD 2024-01-02 2024-12-30 364 days        100.0   99.793331   \n",
      "66  MATIC-USD 2025-01-02 2025-02-23  53 days        100.0   99.989547   \n",
      "\n",
      "    Total Return [%]  Benchmark Return [%]  Max Gross Exposure [%]  \\\n",
      "0          94.421129             84.941362              100.000000   \n",
      "1         112.606285            312.870605              100.000000   \n",
      "2          49.336995             46.847611              100.000000   \n",
      "3         -27.607068            -64.932920              100.000000   \n",
      "4          81.769798            152.610938              100.000000   \n",
      "..               ...                   ...                     ...   \n",
      "62          0.392461          13331.449271                2.191264   \n",
      "63         -0.742450            -70.165701                2.312388   \n",
      "64          0.110629             22.057310                1.323715   \n",
      "65         -0.206669            -52.544141                1.174610   \n",
      "66         -0.010453            -38.725713                0.123113   \n",
      "\n",
      "    Total Fees Paid  ...  Avg Winning Trade [%] Avg Losing Trade [%]  \\\n",
      "0         23.963796  ...               6.964335            -1.922412   \n",
      "1         21.790247  ...               5.563966            -1.746413   \n",
      "2         23.585094  ...               6.536391            -2.559086   \n",
      "3         14.982682  ...               3.419007            -2.359449   \n",
      "4         24.269678  ...               4.801179            -1.512569   \n",
      "..              ...  ...                    ...                  ...   \n",
      "62         0.073935  ...              17.525879            -5.040463   \n",
      "63         0.087121  ...              11.406454            -4.368619   \n",
      "64         0.073089  ...               6.964711            -2.898102   \n",
      "65         0.065449  ...               6.969719            -2.706370   \n",
      "66         0.001097  ...               4.148214            -3.401825   \n",
      "\n",
      "    Avg Winning Trade Duration  Avg Losing Trade Duration  Profit Factor  \\\n",
      "0    3 days 09:25:42.857142857  1 days 06:20:22.641509433       1.582288   \n",
      "1              3 days 00:00:00  1 days 04:04:04.067796610       1.844574   \n",
      "2              3 days 02:24:00  1 days 08:43:38.181818181       1.251903   \n",
      "3    3 days 15:43:26.896551724  1 days 11:46:24.905660377       0.770207   \n",
      "4    2 days 15:29:01.935483870  1 days 00:54:20.377358490       1.685769   \n",
      "..                         ...                        ...            ...   \n",
      "62   2 days 13:19:59.999999999  1 days 02:43:38.181818181       1.338305   \n",
      "63   3 days 15:41:32.307692307  1 days 07:16:21.818181818       0.553158   \n",
      "64             3 days 16:00:00  1 days 04:52:52.881355932       1.145349   \n",
      "65             3 days 18:14:24            1 days 06:45:00       0.710115   \n",
      "66             3 days 08:00:00            2 days 02:40:00       0.343918   \n",
      "\n",
      "    Expectancy  Sharpe Ratio  Calmar Ratio  Omega Ratio  Sortino Ratio  \n",
      "0     1.165693      1.619031      4.187765     1.465750       2.787778  \n",
      "1     1.085437      1.920046      3.947457     1.562469       3.974229  \n",
      "2     0.582192      1.053814      1.373012     1.238637       1.704604  \n",
      "3    -0.333673     -0.592628     -0.640936     0.886152      -0.833408  \n",
      "4     0.973450      1.927238      4.543220     1.604465       4.290962  \n",
      "..         ...           ...           ...          ...            ...  \n",
      "62    0.004909      0.482705      0.834426     1.169010       0.720681  \n",
      "63   -0.008070     -1.547690     -0.800378     0.660678      -1.940351  \n",
      "64    0.001243      0.351746      0.350827     1.092602       0.589857  \n",
      "65   -0.002322     -0.814064     -0.551642     0.824727      -1.114795  \n",
      "66   -0.000847     -1.990976     -4.389052     0.637526      -2.484863  \n",
      "\n",
      "[67 rows x 29 columns]\n"
     ]
    }
   ],
   "source": [
    "import yfinance as yf\n",
    "import numpy as np\n",
    "import pandas as pd\n",
    "import tensorflow as tf\n",
    "from tensorflow.keras.models import Sequential\n",
    "from tensorflow.keras.layers import LSTM, Dense, Dropout\n",
    "from gpflow.kernels import Matern32, Kernel\n",
    "from gpflow.models import GPR\n",
    "from gpflow import set_trainable\n",
    "from sklearn.preprocessing import StandardScaler\n",
    "import vectorbt as vbt\n",
    "from datetime import datetime, timedelta\n",
    "import ruptures as rpt\n",
    "import warnings\n",
    "\n",
    "warnings.filterwarnings(\"ignore\", category=FutureWarning)\n",
    "\n",
    "# Define the custom ChangePointKernel for Gaussian Process Regression\n",
    "class ChangePointKernel(Kernel):\n",
    "    def __init__(self, base_kernel, changepoints):\n",
    "        super().__init__()\n",
    "        self.base_kernel = base_kernel\n",
    "        # changepoints: list of indices where a regime change is detected.\n",
    "        self.changepoints = changepoints\n",
    "\n",
    "    def get_region(self, X):\n",
    "        cp = tf.constant(self.changepoints, dtype=X.dtype)\n",
    "        regions = tf.searchsorted(cp, X[:, 0], side='right')\n",
    "        return regions\n",
    "\n",
    "    def K(self, X, X2=None):\n",
    "        if X2 is None:\n",
    "            X2 = X\n",
    "        regions_X = self.get_region(X)\n",
    "        regions_X2 = self.get_region(X2)\n",
    "        regions_equal = tf.cast(tf.equal(tf.expand_dims(regions_X, 1), tf.expand_dims(regions_X2, 0)), X.dtype)\n",
    "        base_cov = self.base_kernel.K(X, X2)\n",
    "        return base_cov * regions_equal\n",
    "\n",
    "    def K_diag(self, X):\n",
    "        return self.base_kernel.K_diag(X)\n",
    "\n",
    "def fetch_and_process_data(ticker, start_date, end_date):\n",
    "    data = yf.download(ticker, start=start_date, end=end_date)\n",
    "    if data.empty:\n",
    "        raise ValueError(f\"No data found for {ticker} between {start_date} and {end_date}\")\n",
    "    # Prefer \"Adj Close\" if available, otherwise \"Close\"\n",
    "    if \"Adj Close\" in data.columns:\n",
    "        price_series = data[\"Adj Close\"].copy()\n",
    "    else:\n",
    "        price_series = data[\"Close\"].copy()\n",
    "    if isinstance(price_series, pd.DataFrame):\n",
    "        price_series = price_series.squeeze()\n",
    "    price_series.name = ticker\n",
    "    returns = price_series.pct_change().dropna()\n",
    "    scaler = StandardScaler()\n",
    "    std_returns = scaler.fit_transform(returns.values.reshape(-1, 1))\n",
    "    valid_index = returns.index\n",
    "    return price_series.loc[valid_index], pd.Series(\n",
    "        std_returns.flatten(), index=valid_index, name=\"Standardized Returns\"\n",
    "    )\n",
    "\n",
    "def detect_changepoints(returns, lookback_window):\n",
    "    # Use ruptures to detect changepoints using an RBF model.\n",
    "    algo = rpt.Pelt(model=\"rbf\").fit(returns.values)\n",
    "    # Use the lookback_window as penalty; this is a simplified proxy for CPD LBW.\n",
    "    result = algo.predict(pen=lookback_window)\n",
    "    return result\n",
    "\n",
    "def generate_signals(returns, changepoints, train_ratio, epochs, \n",
    "                     dropout_rate, lstm_hidden_units, learning_rate, batch_size):\n",
    "    # Use time index as a feature.\n",
    "    X = np.arange(len(returns), dtype=np.float64).reshape(-1, 1)\n",
    "    y = returns.values.reshape(-1, 1)\n",
    "    # Use Gaussian Process Regression with the ChangePointKernel for trend extraction.\n",
    "    base_kernel = Matern32()\n",
    "    kernel = ChangePointKernel(base_kernel, changepoints)\n",
    "    gpr = GPR(data=(X, y), kernel=kernel)\n",
    "    set_trainable(gpr.likelihood.variance, False)\n",
    "    trend = gpr.predict_f(X)[0].numpy().flatten()\n",
    "    # Combine returns and trend to form a feature set.\n",
    "    features = np.hstack([returns.values.reshape(-1, 1), trend.reshape(-1, 1)])\n",
    "    split_index = int(len(features) * train_ratio)\n",
    "    train_features = features[:split_index]\n",
    "    train_labels = returns.values[:split_index]\n",
    "    # Reshape features for LSTM input.\n",
    "    train_features = train_features.reshape((train_features.shape[0], 1, train_features.shape[1]))\n",
    "    # Build the LSTM model.\n",
    "    model = Sequential([\n",
    "        LSTM(lstm_hidden_units, return_sequences=True,\n",
    "             input_shape=(train_features.shape[1], train_features.shape[2])),\n",
    "        Dropout(dropout_rate),\n",
    "        LSTM(int(lstm_hidden_units / 2)),\n",
    "        Dense(1, activation=\"tanh\")\n",
    "    ])\n",
    "    model.compile(optimizer=tf.keras.optimizers.Adam(learning_rate=learning_rate), loss=\"mse\")\n",
    "    model.fit(train_features, train_labels, epochs=epochs, batch_size=batch_size, verbose=0)\n",
    "    # Predict signals for all features.\n",
    "    all_features = features.reshape((features.shape[0], 1, features.shape[1]))\n",
    "    predicted_signals = model.predict(all_features, verbose=0).flatten()\n",
    "    positions = np.clip(predicted_signals, -1, 1)\n",
    "    return positions\n",
    "\n",
    "def backtest_strategy(price_series, positions):\n",
    "    if isinstance(price_series, pd.DataFrame):\n",
    "        price_series = price_series.squeeze()\n",
    "    positions = pd.Series(positions, index=price_series.index, name=price_series.name)\n",
    "    entries = positions > 0\n",
    "    exits = positions < 0\n",
    "    pf = vbt.Portfolio.from_signals(\n",
    "        close=price_series,\n",
    "        entries=entries,\n",
    "        exits=exits,\n",
    "        size=np.abs(positions),\n",
    "        freq=\"1D\",\n",
    "        fees=0.001,\n",
    "    )\n",
    "    return pf\n",
    "\n",
    "def compute_trade_statistics(pf, price_series):\n",
    "    # Extract trade records from the portfolio\n",
    "    trades = pf.trades.records\n",
    "    if trades.empty:\n",
    "        win_rate = np.nan\n",
    "        avg_win = np.nan\n",
    "        avg_loss = np.nan\n",
    "    else:\n",
    "        # Assuming 'pnl' column exists representing profit (can be negative).\n",
    "        wins = trades[trades.pnl > 0]\n",
    "        losses = trades[trades.pnl < 0]\n",
    "        win_rate = len(wins) / len(trades) if len(trades) > 0 else np.nan\n",
    "        avg_win = wins.pnl.mean() if not wins.empty else np.nan\n",
    "        avg_loss = losses.pnl.mean() if not losses.empty else np.nan\n",
    "    return win_rate, avg_win, avg_loss\n",
    "\n",
    "def main():\n",
    "    # Fixed hyperparameters.\n",
    "    params = {\n",
    "        'batch_size': 128,\n",
    "        'dropout_rate': 0.2,\n",
    "        'learning_rate': 0.001,\n",
    "        'lookback_window': 21,\n",
    "        'lstm_hidden_units': 40,\n",
    "        'epochs': 50,\n",
    "        'train_ratio': 0.8\n",
    "    }\n",
    "    \n",
    "    # List of top 10 cryptocurrencies (excluding stablecoins).\n",
    "    top_cryptos = [\n",
    "        \"BTC-USD\",  # Bitcoin\n",
    "        \"ETH-USD\",  # Ethereum\n",
    "        \"BNB-USD\",  # Binance Coin\n",
    "        \"XRP-USD\",  # XRP\n",
    "        \"ADA-USD\",  # Cardano\n",
    "        \"SOL-USD\",  # Solana\n",
    "        \"DOT-USD\",  # Polkadot\n",
    "        \"DOGE-USD\", # Dogecoin\n",
    "        \"AVAX-USD\", # Avalanche\n",
    "        \"MATIC-USD\" # Polygon (MATIC)\n",
    "    ]\n",
    "\n",
    "    # Define test periods.\n",
    "    periods = []\n",
    "    for year in range(2019, 2025):\n",
    "        period_label = str(year)\n",
    "        start_date = f\"{year}-01-01\"\n",
    "        end_date = f\"{year}-12-31\"\n",
    "        periods.append((period_label, start_date, end_date))\n",
    "    # YTD 2025 using current date as provided in session (2025-02-24).\n",
    "    periods.append((\"2025_YTD\", \"2025-01-01\", \"2025-02-24\"))\n",
    "\n",
    "    results = []\n",
    "\n",
    "    # Loop over each cryptocurrency and each period.\n",
    "    for crypto in top_cryptos:\n",
    "        for period_label, start_date, end_date in periods:\n",
    "            print(f\"Processing {crypto} for period {period_label} ({start_date} to {end_date})\")\n",
    "            try:\n",
    "                price_series, returns = fetch_and_process_data(crypto, start_date, end_date)\n",
    "                if len(returns) < params['lookback_window']:\n",
    "                    print(f\"Not enough data for {crypto} in period {period_label}. Skipping.\")\n",
    "                    continue\n",
    "                \n",
    "                changepoints = detect_changepoints(returns, lookback_window=params['lookback_window'])\n",
    "                positions = generate_signals(\n",
    "                    returns, changepoints,\n",
    "                    train_ratio=params['train_ratio'],\n",
    "                    epochs=params['epochs'],\n",
    "                    dropout_rate=params['dropout_rate'],\n",
    "                    lstm_hidden_units=params['lstm_hidden_units'],\n",
    "                    learning_rate=params['learning_rate'],\n",
    "                    batch_size=params['batch_size']\n",
    "                )\n",
    "                portfolio = backtest_strategy(price_series, positions)\n",
    "                \n",
    "                result = {\n",
    "\t\t\t\t\t\"crypto\": crypto,\n",
    "\t\t\t\t\t**{key: str(value) if pd.isna(value) else value for key, value in portfolio.stats().items()}\n",
    "\t\t\t\t}\n",
    "                # result = {\n",
    "                #     \"crypto\": crypto,\n",
    "                #     \"period\": period_label,\n",
    "                #     \"start_date\": start_date,\n",
    "                #     \"end_date\": end_date,\n",
    "                #     \"total_return\": total_return,\n",
    "                #     \"sharpe_ratio\": sharpe_ratio,\n",
    "                #     \"max_drawdown\": max_drawdown,\n",
    "                #     \"benchmark_return\": benchmark_return,\n",
    "                #     \"win_rate\": win_rate,\n",
    "                #     \"avg_win\": avg_win,\n",
    "                #     \"avg_loss\": avg_loss,\n",
    "                #     \"calmar_ratio\": calmar_ratio,\n",
    "                #     \"omega_ratio\": omega_ratio,\n",
    "                #     \"sortino_ratio\": sortino_ratio,\n",
    "                #     \"portfolio_stats_file\": stats_csv\n",
    "                # }\n",
    "                \n",
    "                results.append(result)\n",
    "                \n",
    "                # stats_dict = portfolio.stats().apply(str).to_dict()\n",
    "                # print(stats_dict)\n",
    "            \n",
    "            except Exception as e:\n",
    "                print(f\"Error processing {crypto} for period {period_label}: {e}\")\n",
    "\n",
    "    # Save all summary results into a DataFrame.\n",
    "    results_df = pd.DataFrame(results)\n",
    "    print(\"\\nBacktest Results:\")\n",
    "    print(results_df)\n",
    "    # Optionally, save the DataFrame to a CSV file.\n",
    "    results_df.to_csv(\"Backtested\\crypto_backtest_results_incfees.csv\", index=False)\n",
    "\n",
    "if __name__ == \"__main__\":\n",
    "    main()"
   ]
  },
  {
   "cell_type": "code",
   "execution_count": 1,
   "metadata": {},
   "outputs": [
    {
     "name": "stdout",
     "output_type": "stream",
     "text": [
      "{'2019': ['BTC', 'ETH', 'XRP', 'BCH', 'EOS', 'LTC', 'XLM', 'ADA', 'TRX', 'BSV'], '2020': ['BTC', 'ETH', 'XRP', 'BCH', 'LTC', 'EOS', 'BNB', 'BSV', 'ADA', 'XTZ'], '2021': ['BTC', 'ETH', 'XRP', 'LTC', 'BCH', 'ADA', 'DOT', 'LINK', 'BNB', 'XLM'], '2022': ['BTC', 'ETH', 'BNB', 'SOL', 'ADA', 'XRP', 'DOT', 'LUNA', 'AVAX', 'DOGE'], '2023': ['BTC', 'ETH', 'BNB', 'XRP', 'ADA', 'DOGE', 'MATIC', 'DOT', 'LTC', 'SHIB'], '2024': ['BTC', 'ETH', 'BNB', 'XRP', 'ADA', 'DOGE', 'SOL', 'DOT', 'LTC', 'AVAX'], '2025': ['BTC', 'ETH', 'BNB', 'XRP', 'ADA', 'DOGE', 'SOL', 'DOT', 'LTC', 'AVAX']}\n"
     ]
    }
   ],
   "source": [
    "top_cryptos = {\n",
    "    \"2019\": [\"BTC\", \"ETH\", \"XRP\", \"BCH\", \"EOS\", \"LTC\", \"XLM\", \"ADA\", \"TRX\", \"BSV\"],\n",
    "    \"2020\": [\"BTC\", \"ETH\", \"XRP\", \"BCH\", \"LTC\", \"EOS\", \"BNB\", \"BSV\", \"ADA\", \"XTZ\"],\n",
    "    \"2021\": [\"BTC\", \"ETH\", \"XRP\", \"LTC\", \"BCH\", \"ADA\", \"DOT\", \"LINK\", \"BNB\", \"XLM\"],\n",
    "    \"2022\": [\"BTC\", \"ETH\", \"BNB\", \"SOL\", \"ADA\", \"XRP\", \"DOT\", \"LUNA\", \"AVAX\", \"DOGE\"],\n",
    "    \"2023\": [\"BTC\", \"ETH\", \"BNB\", \"XRP\", \"ADA\", \"DOGE\", \"MATIC\", \"DOT\", \"LTC\", \"SHIB\"],\n",
    "    \"2024\": [\"BTC\", \"ETH\", \"BNB\", \"XRP\", \"ADA\", \"DOGE\", \"SOL\", \"DOT\", \"LTC\", \"AVAX\"],\n",
    "    \"2025\": [\"BTC\", \"ETH\", \"BNB\", \"XRP\", \"ADA\", \"DOGE\", \"SOL\", \"DOT\", \"LTC\", \"AVAX\"],\n",
    "}\n",
    "\n",
    "print(top_cryptos)"
   ]
  },
  {
   "cell_type": "code",
   "execution_count": 2,
   "metadata": {},
   "outputs": [],
   "source": [
    "import pandas as pd"
   ]
  },
  {
   "cell_type": "code",
   "execution_count": null,
   "metadata": {},
   "outputs": [],
   "source": [
    "df = pd.read_csv(\"Backtested\\crypto_backtest_results_incfees.csv\")"
   ]
  },
  {
   "cell_type": "code",
   "execution_count": 4,
   "metadata": {},
   "outputs": [
    {
     "data": {
      "text/html": [
       "<div>\n",
       "<style scoped>\n",
       "    .dataframe tbody tr th:only-of-type {\n",
       "        vertical-align: middle;\n",
       "    }\n",
       "\n",
       "    .dataframe tbody tr th {\n",
       "        vertical-align: top;\n",
       "    }\n",
       "\n",
       "    .dataframe thead th {\n",
       "        text-align: right;\n",
       "    }\n",
       "</style>\n",
       "<table border=\"1\" class=\"dataframe\">\n",
       "  <thead>\n",
       "    <tr style=\"text-align: right;\">\n",
       "      <th></th>\n",
       "      <th>crypto</th>\n",
       "      <th>Start</th>\n",
       "      <th>End</th>\n",
       "      <th>Period</th>\n",
       "      <th>Start Value</th>\n",
       "      <th>End Value</th>\n",
       "      <th>Total Return [%]</th>\n",
       "      <th>Benchmark Return [%]</th>\n",
       "      <th>Max Gross Exposure [%]</th>\n",
       "      <th>Total Fees Paid</th>\n",
       "      <th>...</th>\n",
       "      <th>Avg Winning Trade [%]</th>\n",
       "      <th>Avg Losing Trade [%]</th>\n",
       "      <th>Avg Winning Trade Duration</th>\n",
       "      <th>Avg Losing Trade Duration</th>\n",
       "      <th>Profit Factor</th>\n",
       "      <th>Expectancy</th>\n",
       "      <th>Sharpe Ratio</th>\n",
       "      <th>Calmar Ratio</th>\n",
       "      <th>Omega Ratio</th>\n",
       "      <th>Sortino Ratio</th>\n",
       "    </tr>\n",
       "  </thead>\n",
       "  <tbody>\n",
       "    <tr>\n",
       "      <th>0</th>\n",
       "      <td>BTC-USD</td>\n",
       "      <td>2019-01-02</td>\n",
       "      <td>2019-12-30</td>\n",
       "      <td>363 days</td>\n",
       "      <td>100.0</td>\n",
       "      <td>194.421129</td>\n",
       "      <td>94.421129</td>\n",
       "      <td>84.941362</td>\n",
       "      <td>100.000000</td>\n",
       "      <td>23.963796</td>\n",
       "      <td>...</td>\n",
       "      <td>6.964335</td>\n",
       "      <td>-1.922412</td>\n",
       "      <td>3 days 09:25:42.857142857</td>\n",
       "      <td>1 days 06:20:22.641509433</td>\n",
       "      <td>1.582288</td>\n",
       "      <td>1.165693</td>\n",
       "      <td>1.619031</td>\n",
       "      <td>4.187765</td>\n",
       "      <td>1.465750</td>\n",
       "      <td>2.787778</td>\n",
       "    </tr>\n",
       "    <tr>\n",
       "      <th>1</th>\n",
       "      <td>BTC-USD</td>\n",
       "      <td>2020-01-02</td>\n",
       "      <td>2020-12-30</td>\n",
       "      <td>364 days</td>\n",
       "      <td>100.0</td>\n",
       "      <td>212.606285</td>\n",
       "      <td>112.606285</td>\n",
       "      <td>312.870605</td>\n",
       "      <td>100.000000</td>\n",
       "      <td>21.790247</td>\n",
       "      <td>...</td>\n",
       "      <td>5.563966</td>\n",
       "      <td>-1.746413</td>\n",
       "      <td>3 days 00:00:00</td>\n",
       "      <td>1 days 04:04:04.067796610</td>\n",
       "      <td>1.844574</td>\n",
       "      <td>1.085437</td>\n",
       "      <td>1.920046</td>\n",
       "      <td>3.947457</td>\n",
       "      <td>1.562469</td>\n",
       "      <td>3.974229</td>\n",
       "    </tr>\n",
       "    <tr>\n",
       "      <th>2</th>\n",
       "      <td>BTC-USD</td>\n",
       "      <td>2021-01-02</td>\n",
       "      <td>2021-12-30</td>\n",
       "      <td>363 days</td>\n",
       "      <td>100.0</td>\n",
       "      <td>149.336995</td>\n",
       "      <td>49.336995</td>\n",
       "      <td>46.847611</td>\n",
       "      <td>100.000000</td>\n",
       "      <td>23.585094</td>\n",
       "      <td>...</td>\n",
       "      <td>6.536391</td>\n",
       "      <td>-2.559086</td>\n",
       "      <td>3 days 02:24:00</td>\n",
       "      <td>1 days 08:43:38.181818181</td>\n",
       "      <td>1.251903</td>\n",
       "      <td>0.582192</td>\n",
       "      <td>1.053814</td>\n",
       "      <td>1.373012</td>\n",
       "      <td>1.238637</td>\n",
       "      <td>1.704604</td>\n",
       "    </tr>\n",
       "    <tr>\n",
       "      <th>3</th>\n",
       "      <td>BTC-USD</td>\n",
       "      <td>2022-01-02</td>\n",
       "      <td>2022-12-30</td>\n",
       "      <td>363 days</td>\n",
       "      <td>100.0</td>\n",
       "      <td>72.392932</td>\n",
       "      <td>-27.607068</td>\n",
       "      <td>-64.932920</td>\n",
       "      <td>100.000000</td>\n",
       "      <td>14.982682</td>\n",
       "      <td>...</td>\n",
       "      <td>3.419007</td>\n",
       "      <td>-2.359449</td>\n",
       "      <td>3 days 15:43:26.896551724</td>\n",
       "      <td>1 days 11:46:24.905660377</td>\n",
       "      <td>0.770207</td>\n",
       "      <td>-0.333673</td>\n",
       "      <td>-0.592628</td>\n",
       "      <td>-0.640936</td>\n",
       "      <td>0.886152</td>\n",
       "      <td>-0.833408</td>\n",
       "    </tr>\n",
       "    <tr>\n",
       "      <th>4</th>\n",
       "      <td>BTC-USD</td>\n",
       "      <td>2023-01-02</td>\n",
       "      <td>2023-12-30</td>\n",
       "      <td>363 days</td>\n",
       "      <td>100.0</td>\n",
       "      <td>181.769798</td>\n",
       "      <td>81.769798</td>\n",
       "      <td>152.610938</td>\n",
       "      <td>100.000000</td>\n",
       "      <td>24.269678</td>\n",
       "      <td>...</td>\n",
       "      <td>4.801179</td>\n",
       "      <td>-1.512569</td>\n",
       "      <td>2 days 15:29:01.935483870</td>\n",
       "      <td>1 days 00:54:20.377358490</td>\n",
       "      <td>1.685769</td>\n",
       "      <td>0.973450</td>\n",
       "      <td>1.927238</td>\n",
       "      <td>4.543220</td>\n",
       "      <td>1.604465</td>\n",
       "      <td>4.290962</td>\n",
       "    </tr>\n",
       "    <tr>\n",
       "      <th>...</th>\n",
       "      <td>...</td>\n",
       "      <td>...</td>\n",
       "      <td>...</td>\n",
       "      <td>...</td>\n",
       "      <td>...</td>\n",
       "      <td>...</td>\n",
       "      <td>...</td>\n",
       "      <td>...</td>\n",
       "      <td>...</td>\n",
       "      <td>...</td>\n",
       "      <td>...</td>\n",
       "      <td>...</td>\n",
       "      <td>...</td>\n",
       "      <td>...</td>\n",
       "      <td>...</td>\n",
       "      <td>...</td>\n",
       "      <td>...</td>\n",
       "      <td>...</td>\n",
       "      <td>...</td>\n",
       "      <td>...</td>\n",
       "      <td>...</td>\n",
       "    </tr>\n",
       "    <tr>\n",
       "      <th>62</th>\n",
       "      <td>MATIC-USD</td>\n",
       "      <td>2021-01-02</td>\n",
       "      <td>2021-12-30</td>\n",
       "      <td>363 days</td>\n",
       "      <td>100.0</td>\n",
       "      <td>100.392461</td>\n",
       "      <td>0.392461</td>\n",
       "      <td>13331.449271</td>\n",
       "      <td>2.191264</td>\n",
       "      <td>0.073935</td>\n",
       "      <td>...</td>\n",
       "      <td>17.525879</td>\n",
       "      <td>-5.040463</td>\n",
       "      <td>2 days 13:19:59.999999999</td>\n",
       "      <td>1 days 02:43:38.181818181</td>\n",
       "      <td>1.338305</td>\n",
       "      <td>0.004909</td>\n",
       "      <td>0.482705</td>\n",
       "      <td>0.834426</td>\n",
       "      <td>1.169010</td>\n",
       "      <td>0.720681</td>\n",
       "    </tr>\n",
       "    <tr>\n",
       "      <th>63</th>\n",
       "      <td>MATIC-USD</td>\n",
       "      <td>2022-01-02</td>\n",
       "      <td>2022-12-30</td>\n",
       "      <td>363 days</td>\n",
       "      <td>100.0</td>\n",
       "      <td>99.257550</td>\n",
       "      <td>-0.742450</td>\n",
       "      <td>-70.165701</td>\n",
       "      <td>2.312388</td>\n",
       "      <td>0.087121</td>\n",
       "      <td>...</td>\n",
       "      <td>11.406454</td>\n",
       "      <td>-4.368619</td>\n",
       "      <td>3 days 15:41:32.307692307</td>\n",
       "      <td>1 days 07:16:21.818181818</td>\n",
       "      <td>0.553158</td>\n",
       "      <td>-0.008070</td>\n",
       "      <td>-1.547690</td>\n",
       "      <td>-0.800378</td>\n",
       "      <td>0.660678</td>\n",
       "      <td>-1.940351</td>\n",
       "    </tr>\n",
       "    <tr>\n",
       "      <th>64</th>\n",
       "      <td>MATIC-USD</td>\n",
       "      <td>2023-01-02</td>\n",
       "      <td>2023-12-30</td>\n",
       "      <td>363 days</td>\n",
       "      <td>100.0</td>\n",
       "      <td>100.110629</td>\n",
       "      <td>0.110629</td>\n",
       "      <td>22.057310</td>\n",
       "      <td>1.323715</td>\n",
       "      <td>0.073089</td>\n",
       "      <td>...</td>\n",
       "      <td>6.964711</td>\n",
       "      <td>-2.898102</td>\n",
       "      <td>3 days 16:00:00</td>\n",
       "      <td>1 days 04:52:52.881355932</td>\n",
       "      <td>1.145349</td>\n",
       "      <td>0.001243</td>\n",
       "      <td>0.351746</td>\n",
       "      <td>0.350827</td>\n",
       "      <td>1.092602</td>\n",
       "      <td>0.589857</td>\n",
       "    </tr>\n",
       "    <tr>\n",
       "      <th>65</th>\n",
       "      <td>MATIC-USD</td>\n",
       "      <td>2024-01-02</td>\n",
       "      <td>2024-12-30</td>\n",
       "      <td>364 days</td>\n",
       "      <td>100.0</td>\n",
       "      <td>99.793331</td>\n",
       "      <td>-0.206669</td>\n",
       "      <td>-52.544141</td>\n",
       "      <td>1.174610</td>\n",
       "      <td>0.065449</td>\n",
       "      <td>...</td>\n",
       "      <td>6.969719</td>\n",
       "      <td>-2.706370</td>\n",
       "      <td>3 days 18:14:24</td>\n",
       "      <td>1 days 06:45:00</td>\n",
       "      <td>0.710115</td>\n",
       "      <td>-0.002322</td>\n",
       "      <td>-0.814064</td>\n",
       "      <td>-0.551642</td>\n",
       "      <td>0.824727</td>\n",
       "      <td>-1.114795</td>\n",
       "    </tr>\n",
       "    <tr>\n",
       "      <th>66</th>\n",
       "      <td>MATIC-USD</td>\n",
       "      <td>2025-01-02</td>\n",
       "      <td>2025-02-23</td>\n",
       "      <td>53 days</td>\n",
       "      <td>100.0</td>\n",
       "      <td>99.989547</td>\n",
       "      <td>-0.010453</td>\n",
       "      <td>-38.725713</td>\n",
       "      <td>0.123113</td>\n",
       "      <td>0.001097</td>\n",
       "      <td>...</td>\n",
       "      <td>4.148214</td>\n",
       "      <td>-3.401825</td>\n",
       "      <td>3 days 08:00:00</td>\n",
       "      <td>2 days 02:40:00</td>\n",
       "      <td>0.343918</td>\n",
       "      <td>-0.000847</td>\n",
       "      <td>-1.990976</td>\n",
       "      <td>-4.389052</td>\n",
       "      <td>0.637526</td>\n",
       "      <td>-2.484863</td>\n",
       "    </tr>\n",
       "  </tbody>\n",
       "</table>\n",
       "<p>67 rows × 29 columns</p>\n",
       "</div>"
      ],
      "text/plain": [
       "       crypto       Start         End    Period  Start Value   End Value  \\\n",
       "0     BTC-USD  2019-01-02  2019-12-30  363 days        100.0  194.421129   \n",
       "1     BTC-USD  2020-01-02  2020-12-30  364 days        100.0  212.606285   \n",
       "2     BTC-USD  2021-01-02  2021-12-30  363 days        100.0  149.336995   \n",
       "3     BTC-USD  2022-01-02  2022-12-30  363 days        100.0   72.392932   \n",
       "4     BTC-USD  2023-01-02  2023-12-30  363 days        100.0  181.769798   \n",
       "..        ...         ...         ...       ...          ...         ...   \n",
       "62  MATIC-USD  2021-01-02  2021-12-30  363 days        100.0  100.392461   \n",
       "63  MATIC-USD  2022-01-02  2022-12-30  363 days        100.0   99.257550   \n",
       "64  MATIC-USD  2023-01-02  2023-12-30  363 days        100.0  100.110629   \n",
       "65  MATIC-USD  2024-01-02  2024-12-30  364 days        100.0   99.793331   \n",
       "66  MATIC-USD  2025-01-02  2025-02-23   53 days        100.0   99.989547   \n",
       "\n",
       "    Total Return [%]  Benchmark Return [%]  Max Gross Exposure [%]  \\\n",
       "0          94.421129             84.941362              100.000000   \n",
       "1         112.606285            312.870605              100.000000   \n",
       "2          49.336995             46.847611              100.000000   \n",
       "3         -27.607068            -64.932920              100.000000   \n",
       "4          81.769798            152.610938              100.000000   \n",
       "..               ...                   ...                     ...   \n",
       "62          0.392461          13331.449271                2.191264   \n",
       "63         -0.742450            -70.165701                2.312388   \n",
       "64          0.110629             22.057310                1.323715   \n",
       "65         -0.206669            -52.544141                1.174610   \n",
       "66         -0.010453            -38.725713                0.123113   \n",
       "\n",
       "    Total Fees Paid  ...  Avg Winning Trade [%] Avg Losing Trade [%]  \\\n",
       "0         23.963796  ...               6.964335            -1.922412   \n",
       "1         21.790247  ...               5.563966            -1.746413   \n",
       "2         23.585094  ...               6.536391            -2.559086   \n",
       "3         14.982682  ...               3.419007            -2.359449   \n",
       "4         24.269678  ...               4.801179            -1.512569   \n",
       "..              ...  ...                    ...                  ...   \n",
       "62         0.073935  ...              17.525879            -5.040463   \n",
       "63         0.087121  ...              11.406454            -4.368619   \n",
       "64         0.073089  ...               6.964711            -2.898102   \n",
       "65         0.065449  ...               6.969719            -2.706370   \n",
       "66         0.001097  ...               4.148214            -3.401825   \n",
       "\n",
       "    Avg Winning Trade Duration  Avg Losing Trade Duration  Profit Factor  \\\n",
       "0    3 days 09:25:42.857142857  1 days 06:20:22.641509433       1.582288   \n",
       "1              3 days 00:00:00  1 days 04:04:04.067796610       1.844574   \n",
       "2              3 days 02:24:00  1 days 08:43:38.181818181       1.251903   \n",
       "3    3 days 15:43:26.896551724  1 days 11:46:24.905660377       0.770207   \n",
       "4    2 days 15:29:01.935483870  1 days 00:54:20.377358490       1.685769   \n",
       "..                         ...                        ...            ...   \n",
       "62   2 days 13:19:59.999999999  1 days 02:43:38.181818181       1.338305   \n",
       "63   3 days 15:41:32.307692307  1 days 07:16:21.818181818       0.553158   \n",
       "64             3 days 16:00:00  1 days 04:52:52.881355932       1.145349   \n",
       "65             3 days 18:14:24            1 days 06:45:00       0.710115   \n",
       "66             3 days 08:00:00            2 days 02:40:00       0.343918   \n",
       "\n",
       "    Expectancy  Sharpe Ratio  Calmar Ratio  Omega Ratio  Sortino Ratio  \n",
       "0     1.165693      1.619031      4.187765     1.465750       2.787778  \n",
       "1     1.085437      1.920046      3.947457     1.562469       3.974229  \n",
       "2     0.582192      1.053814      1.373012     1.238637       1.704604  \n",
       "3    -0.333673     -0.592628     -0.640936     0.886152      -0.833408  \n",
       "4     0.973450      1.927238      4.543220     1.604465       4.290962  \n",
       "..         ...           ...           ...          ...            ...  \n",
       "62    0.004909      0.482705      0.834426     1.169010       0.720681  \n",
       "63   -0.008070     -1.547690     -0.800378     0.660678      -1.940351  \n",
       "64    0.001243      0.351746      0.350827     1.092602       0.589857  \n",
       "65   -0.002322     -0.814064     -0.551642     0.824727      -1.114795  \n",
       "66   -0.000847     -1.990976     -4.389052     0.637526      -2.484863  \n",
       "\n",
       "[67 rows x 29 columns]"
      ]
     },
     "execution_count": 4,
     "metadata": {},
     "output_type": "execute_result"
    }
   ],
   "source": [
    "df"
   ]
  },
  {
   "cell_type": "code",
   "execution_count": null,
   "metadata": {},
   "outputs": [],
   "source": []
  }
 ],
 "metadata": {
  "kernelspec": {
   "display_name": "Python 3",
   "language": "python",
   "name": "python3"
  },
  "language_info": {
   "codemirror_mode": {
    "name": "ipython",
    "version": 3
   },
   "file_extension": ".py",
   "mimetype": "text/x-python",
   "name": "python",
   "nbconvert_exporter": "python",
   "pygments_lexer": "ipython3",
   "version": "3.11.11"
  }
 },
 "nbformat": 4,
 "nbformat_minor": 2
}
