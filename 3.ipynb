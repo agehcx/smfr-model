{
 "cells": [
  {
   "cell_type": "code",
   "execution_count": 7,
   "metadata": {},
   "outputs": [
    {
     "name": "stderr",
     "output_type": "stream",
     "text": [
      "[*********************100%%**********************]  1 of 1 completed"
     ]
    },
    {
     "name": "stdout",
     "output_type": "stream",
     "text": [
      "\n",
      "Backtesting BTC-USD...\n"
     ]
    },
    {
     "name": "stderr",
     "output_type": "stream",
     "text": [
      "\n"
     ]
    },
    {
     "name": "stdout",
     "output_type": "stream",
     "text": [
      "\u001b[1m12/12\u001b[0m \u001b[32m━━━━━━━━━━━━━━━━━━━━\u001b[0m\u001b[37m\u001b[0m \u001b[1m0s\u001b[0m 15ms/step\n"
     ]
    },
    {
     "name": "stderr",
     "output_type": "stream",
     "text": [
      "[*********************100%%**********************]  1 of 1 completed"
     ]
    },
    {
     "name": "stdout",
     "output_type": "stream",
     "text": [
      "Total Return: 57.35%\n",
      "Sharpe Ratio: 1.45\n",
      "Max Drawdown: -23.47%\n",
      "\n",
      "Backtesting ETH-USD...\n"
     ]
    },
    {
     "name": "stderr",
     "output_type": "stream",
     "text": [
      "\n"
     ]
    },
    {
     "name": "stdout",
     "output_type": "stream",
     "text": [
      "\u001b[1m12/12\u001b[0m \u001b[32m━━━━━━━━━━━━━━━━━━━━\u001b[0m\u001b[37m\u001b[0m \u001b[1m0s\u001b[0m 13ms/step\n"
     ]
    },
    {
     "name": "stderr",
     "output_type": "stream",
     "text": [
      "[*********************100%%**********************]  1 of 1 completed"
     ]
    },
    {
     "name": "stdout",
     "output_type": "stream",
     "text": [
      "Total Return: 23.28%\n",
      "Sharpe Ratio: 0.73\n",
      "Max Drawdown: -31.28%\n",
      "\n",
      "Backtesting XRP-USD...\n"
     ]
    },
    {
     "name": "stderr",
     "output_type": "stream",
     "text": [
      "\n"
     ]
    },
    {
     "name": "stdout",
     "output_type": "stream",
     "text": [
      "\u001b[1m12/12\u001b[0m \u001b[32m━━━━━━━━━━━━━━━━━━━━\u001b[0m\u001b[37m\u001b[0m \u001b[1m0s\u001b[0m 13ms/step\n"
     ]
    },
    {
     "name": "stderr",
     "output_type": "stream",
     "text": [
      "[*********************100%%**********************]  1 of 1 completed"
     ]
    },
    {
     "name": "stdout",
     "output_type": "stream",
     "text": [
      "Total Return: 1.16%\n",
      "Sharpe Ratio: 1.37\n",
      "Max Drawdown: -0.54%\n",
      "\n",
      "Backtesting SOL-USD...\n"
     ]
    },
    {
     "name": "stderr",
     "output_type": "stream",
     "text": [
      "\n"
     ]
    },
    {
     "name": "stdout",
     "output_type": "stream",
     "text": [
      "\u001b[1m12/12\u001b[0m \u001b[32m━━━━━━━━━━━━━━━━━━━━\u001b[0m\u001b[37m\u001b[0m \u001b[1m0s\u001b[0m 11ms/step\n"
     ]
    },
    {
     "name": "stderr",
     "output_type": "stream",
     "text": [
      "[*********************100%%**********************]  1 of 1 completed"
     ]
    },
    {
     "name": "stdout",
     "output_type": "stream",
     "text": [
      "Total Return: 72.46%\n",
      "Sharpe Ratio: 1.42\n",
      "Max Drawdown: -21.44%\n",
      "\n",
      "Backtesting BNB-USD...\n"
     ]
    },
    {
     "name": "stderr",
     "output_type": "stream",
     "text": [
      "\n"
     ]
    },
    {
     "name": "stdout",
     "output_type": "stream",
     "text": [
      "\u001b[1m12/12\u001b[0m \u001b[32m━━━━━━━━━━━━━━━━━━━━\u001b[0m\u001b[37m\u001b[0m \u001b[1m0s\u001b[0m 12ms/step\n"
     ]
    },
    {
     "name": "stderr",
     "output_type": "stream",
     "text": [
      "[*********************100%%**********************]  1 of 1 completed"
     ]
    },
    {
     "name": "stdout",
     "output_type": "stream",
     "text": [
      "Total Return: 70.49%\n",
      "Sharpe Ratio: 1.55\n",
      "Max Drawdown: -19.98%\n",
      "\n",
      "Backtesting DOGE-USD...\n"
     ]
    },
    {
     "name": "stderr",
     "output_type": "stream",
     "text": [
      "\n"
     ]
    },
    {
     "name": "stdout",
     "output_type": "stream",
     "text": [
      "\u001b[1m12/12\u001b[0m \u001b[32m━━━━━━━━━━━━━━━━━━━━\u001b[0m\u001b[37m\u001b[0m \u001b[1m0s\u001b[0m 13ms/step\n"
     ]
    },
    {
     "name": "stderr",
     "output_type": "stream",
     "text": [
      "[*********************100%%**********************]  1 of 1 completed"
     ]
    },
    {
     "name": "stdout",
     "output_type": "stream",
     "text": [
      "Total Return: 0.17%\n",
      "Sharpe Ratio: 1.38\n",
      "Max Drawdown: -0.06%\n",
      "\n",
      "Backtesting ADA-USD...\n"
     ]
    },
    {
     "name": "stderr",
     "output_type": "stream",
     "text": [
      "\n"
     ]
    },
    {
     "name": "stdout",
     "output_type": "stream",
     "text": [
      "\u001b[1m12/12\u001b[0m \u001b[32m━━━━━━━━━━━━━━━━━━━━\u001b[0m\u001b[37m\u001b[0m \u001b[1m0s\u001b[0m 15ms/step\n"
     ]
    },
    {
     "name": "stderr",
     "output_type": "stream",
     "text": [
      "[*********************100%%**********************]  1 of 1 completed"
     ]
    },
    {
     "name": "stdout",
     "output_type": "stream",
     "text": [
      "Total Return: 0.44%\n",
      "Sharpe Ratio: 1.55\n",
      "Max Drawdown: -0.21%\n",
      "\n",
      "Backtesting LINK-USD...\n"
     ]
    },
    {
     "name": "stderr",
     "output_type": "stream",
     "text": [
      "\n"
     ]
    },
    {
     "name": "stdout",
     "output_type": "stream",
     "text": [
      "\u001b[1m12/12\u001b[0m \u001b[32m━━━━━━━━━━━━━━━━━━━━\u001b[0m\u001b[37m\u001b[0m \u001b[1m0s\u001b[0m 14ms/step\n"
     ]
    },
    {
     "name": "stderr",
     "output_type": "stream",
     "text": [
      "[*********************100%%**********************]  1 of 1 completed"
     ]
    },
    {
     "name": "stdout",
     "output_type": "stream",
     "text": [
      "Total Return: 5.36%\n",
      "Sharpe Ratio: 0.66\n",
      "Max Drawdown: -5.85%\n",
      "\n",
      "Backtesting AVAX-USD...\n"
     ]
    },
    {
     "name": "stderr",
     "output_type": "stream",
     "text": [
      "\n"
     ]
    },
    {
     "name": "stdout",
     "output_type": "stream",
     "text": [
      "\u001b[1m12/12\u001b[0m \u001b[32m━━━━━━━━━━━━━━━━━━━━\u001b[0m\u001b[37m\u001b[0m \u001b[1m0s\u001b[0m 14ms/step\n"
     ]
    },
    {
     "name": "stderr",
     "output_type": "stream",
     "text": [
      "[*********************100%%**********************]  1 of 1 completed"
     ]
    },
    {
     "name": "stdout",
     "output_type": "stream",
     "text": [
      "Total Return: 1.18%\n",
      "Sharpe Ratio: 0.16\n",
      "Max Drawdown: -21.37%\n",
      "\n",
      "Backtesting XLM-USD...\n"
     ]
    },
    {
     "name": "stderr",
     "output_type": "stream",
     "text": [
      "\n"
     ]
    },
    {
     "name": "stdout",
     "output_type": "stream",
     "text": [
      "\u001b[1m12/12\u001b[0m \u001b[32m━━━━━━━━━━━━━━━━━━━━\u001b[0m\u001b[37m\u001b[0m \u001b[1m0s\u001b[0m 11ms/step\n"
     ]
    },
    {
     "name": "stderr",
     "output_type": "stream",
     "text": [
      "[*********************100%%**********************]  1 of 1 completed"
     ]
    },
    {
     "name": "stdout",
     "output_type": "stream",
     "text": [
      "Total Return: 0.23%\n",
      "Sharpe Ratio: 1.00\n",
      "Max Drawdown: -0.11%\n",
      "\n",
      "Backtesting TON-USD...\n"
     ]
    },
    {
     "name": "stderr",
     "output_type": "stream",
     "text": [
      "\n"
     ]
    },
    {
     "name": "stdout",
     "output_type": "stream",
     "text": [
      "\u001b[1m12/12\u001b[0m \u001b[32m━━━━━━━━━━━━━━━━━━━━\u001b[0m\u001b[37m\u001b[0m \u001b[1m0s\u001b[0m 11ms/step\n"
     ]
    },
    {
     "name": "stderr",
     "output_type": "stream",
     "text": [
      "[*********************100%%**********************]  1 of 1 completed"
     ]
    },
    {
     "name": "stdout",
     "output_type": "stream",
     "text": [
      "Total Return: -2.32%\n",
      "Sharpe Ratio: -1.40\n",
      "Max Drawdown: -3.32%\n",
      "\n",
      "Backtesting HBAR-USD...\n"
     ]
    },
    {
     "name": "stderr",
     "output_type": "stream",
     "text": [
      "\n"
     ]
    },
    {
     "name": "stdout",
     "output_type": "stream",
     "text": [
      "\u001b[1m12/12\u001b[0m \u001b[32m━━━━━━━━━━━━━━━━━━━━\u001b[0m\u001b[37m\u001b[0m \u001b[1m0s\u001b[0m 10ms/step\n"
     ]
    },
    {
     "name": "stderr",
     "output_type": "stream",
     "text": [
      "[*********************100%%**********************]  1 of 1 completed"
     ]
    },
    {
     "name": "stdout",
     "output_type": "stream",
     "text": [
      "Total Return: 0.16%\n",
      "Sharpe Ratio: 1.08\n",
      "Max Drawdown: -0.08%\n",
      "\n",
      "Backtesting LTC-USD...\n"
     ]
    },
    {
     "name": "stderr",
     "output_type": "stream",
     "text": [
      "\n"
     ]
    },
    {
     "name": "stdout",
     "output_type": "stream",
     "text": [
      "\u001b[1m12/12\u001b[0m \u001b[32m━━━━━━━━━━━━━━━━━━━━\u001b[0m\u001b[37m\u001b[0m \u001b[1m0s\u001b[0m 10ms/step\n"
     ]
    },
    {
     "name": "stderr",
     "output_type": "stream",
     "text": [
      "[*********************100%%**********************]  1 of 1 completed"
     ]
    },
    {
     "name": "stdout",
     "output_type": "stream",
     "text": [
      "Total Return: -15.47%\n",
      "Sharpe Ratio: -0.27\n",
      "Max Drawdown: -33.58%\n",
      "\n",
      "Backtesting DOT-USD...\n"
     ]
    },
    {
     "name": "stderr",
     "output_type": "stream",
     "text": [
      "\n"
     ]
    },
    {
     "name": "stdout",
     "output_type": "stream",
     "text": [
      "\u001b[1m12/12\u001b[0m \u001b[32m━━━━━━━━━━━━━━━━━━━━\u001b[0m\u001b[37m\u001b[0m \u001b[1m0s\u001b[0m 11ms/step\n",
      "Total Return: 1.43%\n",
      "Sharpe Ratio: 0.47\n",
      "Max Drawdown: -3.31%\n",
      "\n",
      "Backtesting BCH-USD...\n"
     ]
    },
    {
     "name": "stderr",
     "output_type": "stream",
     "text": [
      "[*********************100%%**********************]  1 of 1 completed\n"
     ]
    },
    {
     "name": "stdout",
     "output_type": "stream",
     "text": [
      "\u001b[1m12/12\u001b[0m \u001b[32m━━━━━━━━━━━━━━━━━━━━\u001b[0m\u001b[37m\u001b[0m \u001b[1m0s\u001b[0m 10ms/step\n"
     ]
    },
    {
     "name": "stderr",
     "output_type": "stream",
     "text": [
      "[*********************100%%**********************]  1 of 1 completed"
     ]
    },
    {
     "name": "stdout",
     "output_type": "stream",
     "text": [
      "Total Return: 108.41%\n",
      "Sharpe Ratio: 1.35\n",
      "Max Drawdown: -30.89%\n",
      "\n",
      "Backtesting UNI-USD...\n"
     ]
    },
    {
     "name": "stderr",
     "output_type": "stream",
     "text": [
      "\n"
     ]
    },
    {
     "name": "stdout",
     "output_type": "stream",
     "text": [
      "\u001b[1m12/12\u001b[0m \u001b[32m━━━━━━━━━━━━━━━━━━━━\u001b[0m\u001b[37m\u001b[0m \u001b[1m0s\u001b[0m 10ms/step\n"
     ]
    },
    {
     "name": "stderr",
     "output_type": "stream",
     "text": [
      "[*********************100%%**********************]  1 of 1 completed"
     ]
    },
    {
     "name": "stdout",
     "output_type": "stream",
     "text": [
      "Total Return: -0.00%\n",
      "Sharpe Ratio: -0.22\n",
      "Max Drawdown: -0.00%\n",
      "\n",
      "Backtesting XMR-USD...\n"
     ]
    },
    {
     "name": "stderr",
     "output_type": "stream",
     "text": [
      "\n"
     ]
    },
    {
     "name": "stdout",
     "output_type": "stream",
     "text": [
      "\u001b[1m12/12\u001b[0m \u001b[32m━━━━━━━━━━━━━━━━━━━━\u001b[0m\u001b[37m\u001b[0m \u001b[1m0s\u001b[0m 10ms/step\n"
     ]
    },
    {
     "name": "stderr",
     "output_type": "stream",
     "text": [
      "[*********************100%%**********************]  1 of 1 completed"
     ]
    },
    {
     "name": "stdout",
     "output_type": "stream",
     "text": [
      "Total Return: -0.19%\n",
      "Sharpe Ratio: 0.21\n",
      "Max Drawdown: -36.11%\n",
      "\n",
      "Backtesting AAVE-USD...\n"
     ]
    },
    {
     "name": "stderr",
     "output_type": "stream",
     "text": [
      "\n"
     ]
    },
    {
     "name": "stdout",
     "output_type": "stream",
     "text": [
      "\u001b[1m12/12\u001b[0m \u001b[32m━━━━━━━━━━━━━━━━━━━━\u001b[0m\u001b[37m\u001b[0m \u001b[1m0s\u001b[0m 10ms/step\n"
     ]
    },
    {
     "name": "stderr",
     "output_type": "stream",
     "text": [
      "[*********************100%%**********************]  1 of 1 completed"
     ]
    },
    {
     "name": "stdout",
     "output_type": "stream",
     "text": [
      "Total Return: 81.31%\n",
      "Sharpe Ratio: 1.22\n",
      "Max Drawdown: -25.09%\n",
      "\n",
      "Backtesting ETC-USD...\n"
     ]
    },
    {
     "name": "stderr",
     "output_type": "stream",
     "text": [
      "\n"
     ]
    },
    {
     "name": "stdout",
     "output_type": "stream",
     "text": [
      "\u001b[1m12/12\u001b[0m \u001b[32m━━━━━━━━━━━━━━━━━━━━\u001b[0m\u001b[37m\u001b[0m \u001b[1m0s\u001b[0m 15ms/step\n"
     ]
    },
    {
     "name": "stderr",
     "output_type": "stream",
     "text": [
      "[*********************100%%**********************]  1 of 1 completed"
     ]
    },
    {
     "name": "stdout",
     "output_type": "stream",
     "text": [
      "Total Return: 8.61%\n",
      "Sharpe Ratio: 0.85\n",
      "Max Drawdown: -7.18%\n",
      "\n",
      "Backtesting OKB-USD...\n"
     ]
    },
    {
     "name": "stderr",
     "output_type": "stream",
     "text": [
      "\n"
     ]
    },
    {
     "name": "stdout",
     "output_type": "stream",
     "text": [
      "\u001b[1m12/12\u001b[0m \u001b[32m━━━━━━━━━━━━━━━━━━━━\u001b[0m\u001b[37m\u001b[0m \u001b[1m0s\u001b[0m 10ms/step\n"
     ]
    },
    {
     "name": "stderr",
     "output_type": "stream",
     "text": [
      "[*********************100%%**********************]  1 of 1 completed"
     ]
    },
    {
     "name": "stdout",
     "output_type": "stream",
     "text": [
      "Total Return: 9.18%\n",
      "Sharpe Ratio: 0.64\n",
      "Max Drawdown: -12.61%\n",
      "\n",
      "Backtesting FIL-USD...\n"
     ]
    },
    {
     "name": "stderr",
     "output_type": "stream",
     "text": [
      "\n"
     ]
    },
    {
     "name": "stdout",
     "output_type": "stream",
     "text": [
      "\u001b[1m12/12\u001b[0m \u001b[32m━━━━━━━━━━━━━━━━━━━━\u001b[0m\u001b[37m\u001b[0m \u001b[1m0s\u001b[0m 11ms/step\n",
      "Total Return: 1.39%\n",
      "Sharpe Ratio: 0.45\n",
      "Max Drawdown: -3.06%\n",
      "\n",
      "Final Backtest Results:\n",
      "+----------+----------------+----------------+----------------+\n",
      "|          | Total Return   |   Sharpe Ratio | Max Drawdown   |\n",
      "+==========+================+================+================+\n",
      "| BTC-USD  | 57.35%         |           1.45 | -23.47%        |\n",
      "+----------+----------------+----------------+----------------+\n",
      "| ETH-USD  | 23.28%         |           0.73 | -31.28%        |\n",
      "+----------+----------------+----------------+----------------+\n",
      "| XRP-USD  | 1.16%          |           1.37 | -0.54%         |\n",
      "+----------+----------------+----------------+----------------+\n",
      "| SOL-USD  | 72.46%         |           1.42 | -21.44%        |\n",
      "+----------+----------------+----------------+----------------+\n",
      "| BNB-USD  | 70.49%         |           1.55 | -19.98%        |\n",
      "+----------+----------------+----------------+----------------+\n",
      "| DOGE-USD | 0.17%          |           1.38 | -0.06%         |\n",
      "+----------+----------------+----------------+----------------+\n",
      "| ADA-USD  | 0.44%          |           1.55 | -0.21%         |\n",
      "+----------+----------------+----------------+----------------+\n",
      "| LINK-USD | 5.36%          |           0.66 | -5.85%         |\n",
      "+----------+----------------+----------------+----------------+\n",
      "| AVAX-USD | 1.18%          |           0.16 | -21.37%        |\n",
      "+----------+----------------+----------------+----------------+\n",
      "| XLM-USD  | 0.23%          |           1    | -0.11%         |\n",
      "+----------+----------------+----------------+----------------+\n",
      "| TON-USD  | -2.32%         |          -1.4  | -3.32%         |\n",
      "+----------+----------------+----------------+----------------+\n",
      "| HBAR-USD | 0.16%          |           1.08 | -0.08%         |\n",
      "+----------+----------------+----------------+----------------+\n",
      "| LTC-USD  | -15.47%        |          -0.27 | -33.58%        |\n",
      "+----------+----------------+----------------+----------------+\n",
      "| DOT-USD  | 1.43%          |           0.47 | -3.31%         |\n",
      "+----------+----------------+----------------+----------------+\n",
      "| BCH-USD  | 108.41%        |           1.35 | -30.89%        |\n",
      "+----------+----------------+----------------+----------------+\n",
      "| UNI-USD  | -0.00%         |          -0.22 | -0.00%         |\n",
      "+----------+----------------+----------------+----------------+\n",
      "| XMR-USD  | -0.19%         |           0.21 | -36.11%        |\n",
      "+----------+----------------+----------------+----------------+\n",
      "| AAVE-USD | 81.31%         |           1.22 | -25.09%        |\n",
      "+----------+----------------+----------------+----------------+\n",
      "| ETC-USD  | 8.61%          |           0.85 | -7.18%         |\n",
      "+----------+----------------+----------------+----------------+\n",
      "| OKB-USD  | 9.18%          |           0.64 | -12.61%        |\n",
      "+----------+----------------+----------------+----------------+\n",
      "| FIL-USD  | 1.39%          |           0.45 | -3.06%         |\n",
      "+----------+----------------+----------------+----------------+\n"
     ]
    }
   ],
   "source": [
    "import yfinance as yf\n",
    "import numpy as np\n",
    "import pandas as pd\n",
    "import tensorflow as tf\n",
    "from tensorflow.keras.models import Sequential\n",
    "from tensorflow.keras.layers import Input, LSTM, Dense, Dropout\n",
    "from gpflow.kernels import Matern32\n",
    "from gpflow.models import GPR\n",
    "from gpflow import set_trainable\n",
    "from sklearn.preprocessing import StandardScaler\n",
    "import vectorbt as vbt\n",
    "\n",
    "# Configuration to prevent scientific notation\n",
    "pd.set_option('display.float_format', lambda x: '%.6f' % x)\n",
    "\n",
    "def fetch_and_process_data(ticker, start_date=\"2024-01-01\", end_date=\"2024-12-31\", train_ratio=0.8):\n",
    "    \"\"\"Fetch and process data with special handling for low-price cryptocurrencies.\"\"\"\n",
    "    try:\n",
    "        data = yf.download(ticker, start=start_date, end=end_date)\n",
    "        if data.empty or \"Adj Close\" not in data:\n",
    "            raise ValueError(f\"No valid data found for {ticker}\")\n",
    "        \n",
    "        close = data[\"Adj Close\"]\n",
    "        split_index = int(len(close) * train_ratio)\n",
    "        \n",
    "        # Handle micro-priced coins  (To be fixed later)\n",
    "        price_scale = 1000 if close.mean() < 0.1 else 1\n",
    "        scaled_close = close * price_scale\n",
    "        \n",
    "        # Calculate returns based on price level\n",
    "        if close.mean() > 0.1:\n",
    "            returns = scaled_close.pct_change().dropna()\n",
    "        else:\n",
    "            returns = np.log(scaled_close / scaled_close.shift(1)).dropna()\n",
    "        \n",
    "        train_returns = returns.iloc[:split_index]\n",
    "        test_returns = returns.iloc[split_index:]\n",
    "        \n",
    "        scaler = StandardScaler()\n",
    "        scaler.fit(train_returns.values.reshape(-1, 1))\n",
    "        \n",
    "        train_std = scaler.transform(train_returns.values.reshape(-1, 1))\n",
    "        test_std = scaler.transform(test_returns.values.reshape(-1, 1))\n",
    "        \n",
    "        std_returns = np.concatenate([train_std, test_std]).flatten()\n",
    "        \n",
    "        return close[returns.index], pd.Series(std_returns, index=returns.index), split_index\n",
    "    \n",
    "    except Exception as e:\n",
    "        raise RuntimeError(f\"Error processing {ticker}: {str(e)}\")\n",
    "\n",
    "def generate_signals(returns, split_index, epochs=50):\n",
    "    \"\"\"Generate trading signals with proper train-test separation.\"\"\"\n",
    "    X = np.arange(len(returns), dtype=np.float64).reshape(-1, 1)\n",
    "    y = returns.values.reshape(-1, 1)\n",
    "    \n",
    "    # GPR Trend Estimation\n",
    "    X_train, X_test = X[:split_index], X[split_index:]\n",
    "    y_train, y_test = y[:split_index], y[split_index:]\n",
    "    \n",
    "    kernel = Matern32()\n",
    "    gpr = GPR(data=(X_train, y_train), kernel=kernel)\n",
    "    set_trainable(gpr.likelihood.variance, False)\n",
    "    \n",
    "    trend_train = gpr.predict_f(X_train)[0].numpy().flatten()\n",
    "    trend_test = gpr.predict_f(X_test)[0].numpy().flatten()\n",
    "    trend = np.concatenate([trend_train, trend_test])\n",
    "    \n",
    "    # Feature\n",
    "    features = np.hstack([returns.values.reshape(-1, 1), trend.reshape(-1, 1)])\n",
    "    train_features = features[:split_index]\n",
    "    train_labels = y[:split_index].flatten()\n",
    "    \n",
    "    # LSTM Model\n",
    "    model = Sequential([\n",
    "        Input(shape=(1, 2)),\n",
    "        LSTM(64, return_sequences=True),\n",
    "        Dropout(0.2),\n",
    "        LSTM(32),\n",
    "        Dense(1, activation=\"tanh\")\n",
    "    ])\n",
    "    \n",
    "    model.compile(optimizer=tf.keras.optimizers.Adam(learning_rate=0.001), loss=\"mse\")\n",
    "    model.fit(\n",
    "        train_features.reshape((train_features.shape[0], 1, train_features.shape[1])),\n",
    "        train_labels,\n",
    "        epochs=epochs,\n",
    "        batch_size=32,\n",
    "        verbose=0\n",
    "    )\n",
    "    \n",
    "    # Predict\n",
    "    all_features = features.reshape((features.shape[0], 1, features.shape[1]))\n",
    "    predicted_signals = model.predict(all_features).flatten()\n",
    "    return np.clip(predicted_signals, -1, 1)\n",
    "\n",
    "def backtest_strategy(close, positions):\n",
    "    \"\"\"Backtest strategy with improved signal thresholds.\"\"\"\n",
    "    entries = positions > 0.2\n",
    "    exits = positions < -0.2\n",
    "    \n",
    "    pf = vbt.Portfolio.from_signals(\n",
    "        close=close,\n",
    "        entries=entries,\n",
    "        exits=exits,\n",
    "        size=np.abs(positions),\n",
    "        freq=\"1D\"\n",
    "    )\n",
    "    return pf\n",
    "\n",
    "def backtest_crypto_list(ticker_list, start_date=\"2024-01-01\", end_date=\"2024-12-31\"):\n",
    "    \"\"\"Run backtests for multiple cryptocurrencies with error handling.\"\"\"\n",
    "    results = {}\n",
    "    for ticker in ticker_list:\n",
    "        print(f\"\\nBacktesting {ticker}...\")\n",
    "        try:\n",
    "            close, returns, split_index = fetch_and_process_data(ticker, start_date, end_date)\n",
    "            positions = generate_signals(returns, split_index)\n",
    "            portfolio = backtest_strategy(close, positions)\n",
    "            results[ticker] = portfolio\n",
    "            \n",
    "            print(f\"Total Return: {portfolio.total_return():.2%}\")\n",
    "            print(f\"Sharpe Ratio: {portfolio.sharpe_ratio():.2f}\")\n",
    "            print(f\"Max Drawdown: {portfolio.max_drawdown():.2%}\")\n",
    "            \n",
    "        except Exception as e:\n",
    "            print(f\"Skipped {ticker}: {str(e)}\")\n",
    "    return results\n",
    "\n",
    "def main():\n",
    "    \"\"\"Main execution function with filtered ticker list.\"\"\"\n",
    "    filtered_tickers = [\n",
    "        \"BTC-USD\", \"ETH-USD\", \"XRP-USD\", \"SOL-USD\", \"BNB-USD\",\n",
    "        \"DOGE-USD\", \"ADA-USD\", \"LINK-USD\", \"AVAX-USD\", \n",
    "        \"XLM-USD\", \"TON-USD\", \"HBAR-USD\", \"LTC-USD\",\n",
    "        \"DOT-USD\", \"BCH-USD\", \"UNI-USD\", \"XMR-USD\",\n",
    "        \"AAVE-USD\", \"ETC-USD\", \"OKB-USD\", \"FIL-USD\"\n",
    "    ]\n",
    "\n",
    "    results = backtest_crypto_list(filtered_tickers)\n",
    "    \n",
    "    summary = {}\n",
    "    for ticker, pf in results.items():\n",
    "        summary[ticker] = {\n",
    "            'Total Return': pf.total_return(),\n",
    "            'Sharpe Ratio': pf.sharpe_ratio(),\n",
    "            'Max Drawdown': pf.max_drawdown()\n",
    "        }\n",
    "    \n",
    "    summary_df = pd.DataFrame(summary).T\n",
    "    summary_df['Total Return'] = summary_df['Total Return'].map(lambda x: f\"{x:.2%}\")\n",
    "    summary_df['Max Drawdown'] = summary_df['Max Drawdown'].map(lambda x: f\"{x:.2%}\")\n",
    "    summary_df['Sharpe Ratio'] = summary_df['Sharpe Ratio'].map(lambda x: f\"{x:.2f}\")\n",
    "    \n",
    "    print(\"\\nFinal Backtest Results:\")\n",
    "    print(summary_df.to_markdown(tablefmt=\"grid\"))\n",
    "\n",
    "if __name__ == \"__main__\":\n",
    "    main()"
   ]
  }
 ],
 "metadata": {
  "kernelspec": {
   "display_name": "Python 3.11 (myenv)",
   "language": "python",
   "name": "myenv"
  }
 },
 "nbformat": 4,
 "nbformat_minor": 2
}
